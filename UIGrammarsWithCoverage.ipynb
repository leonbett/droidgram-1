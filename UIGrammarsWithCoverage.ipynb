{
 "cells": [
  {
   "cell_type": "code",
   "execution_count": 24,
   "metadata": {},
   "outputs": [],
   "source": [
    "import fuzzingbook_utils"
   ]
  },
  {
   "cell_type": "markdown",
   "metadata": {
    "heading_collapsed": true
   },
   "source": [
    "# Efficient Regression Testing with Mined UI Grammars\n",
    "\n",
    "__GOAL:__ Mine a single grammar containing UI Elements, UI States, UI Interactions and Statement Coverage. Consume this grammar to efficiently generate tests."
   ]
  },
  {
   "cell_type": "markdown",
   "metadata": {
    "hidden": true
   },
   "source": [
    "## Roadmap\n",
    "\n",
    "1. __DONE__ Explore an app using DroidMate _(maybe mutiple times?)_.\n",
    "2. __ONGOING__ Extract a UI grammar containing only the UI elements which DM interacted with (Kotlin).\n",
    "3. __DONE__ Use the fuzzingbook's GrammarCoverageFuzzer to consume the Grammar and generate input values (Python).\n",
    "4. __DONE__ Extend the funzzingbook's grammar coverage tracking to consider both terminals and non-terminals (Python). \n",
    "5. _PENDING_ Associate the grammar elements with _covered statements_ (Kotlin).\n",
    "6. _PENDING_ Consume expanded grammar to generatetests targeted to specific code locations (Kotlin).\n",
    "7. _DONE_ Generate inputs to cover all grammar elements\n",
    "8. _PENDING_ Generate inputs to cover all previously covered statements\n",
    "9. _PENDING_ Generate inputs to cover specific statements"
   ]
  },
  {
   "cell_type": "markdown",
   "metadata": {
    "hidden": true
   },
   "source": [
    "## Grammar definition:\n",
    "\n",
    "The grammar contains two types of productions _<state>_ and _<transition>_, where:\n",
    "\n",
    "### State (Non-Terminal <sX\\>)\n",
    "\n",
    "Represents a UI state. It contains all _UI elements_ which can be interacted with on the state, alongside their transitions. \n",
    "It is defined as \n",
    "\n",
    "```\n",
    "<sX> ::= w1<t1>, ..., wN<tN>\n",
    "```\n",
    "\n",
    "Where:\n",
    "* wX is a widget\n",
    "* <tX\\> is a transition\n",
    "\n",
    "### Transition (Non-Terminal <tX\\>)\n",
    "\n",
    "Represents a UI state transition trigger by a UI element interaction. \n",
    "\n",
    "By design, is always associated to a UI element, but could be theoretically generalized for system events.\n",
    "It is defined as\n",
    "\n",
    "```\n",
    "  <tX> ::= <s1>, ..., <sN>\n",
    "```\n",
    "\n",
    "Where _<sX\\>_ is a state. \n",
    "A transition contains only UI state productions. \n",
    "It also contains _all UI states_ which can be reached by this transition.\n",
    "\n",
    "### Widget/UI Element (Terminal wX)\n",
    "\n",
    "A UI element represents a UI element interaction in the app. It is defined as \n",
    "\n",
    "```\n",
    "wX ≡ widgetX.actionY[.dataZ]\n",
    "```\n",
    "\n",
    "Where:\n",
    "* _widgetX_ is the unique UI element ID\n",
    "* _actionY_ is the type of action performed\n",
    "* _dataZ_ is the value used in the action, such as text input, if any. This parameter is optional.\n",
    "\n",
    "This notation can simultaneously encode:\n",
    "* UI elements\n",
    "* Different action types on the same UI elements (click, long click, tick, etc, input text)\n",
    "* Different input payloads (searched value)\n",
    "\n",
    "### Terminate condition\n",
    "\n",
    "An exploration can be over at any time. Thus, all _State_ productions can also be $\\epsilon$.\n",
    "\n"
   ]
  },
  {
   "cell_type": "markdown",
   "metadata": {
    "heading_collapsed": true
   },
   "source": [
    "# Concrete Example\n",
    "\n",
    "## Notation\n",
    "\n",
    "* State: Sequential numbering\n",
    "* Widget: Sequential numbering (later mapped to UID)\n",
    "* Action types: Click and Long Click\n",
    "* Transition: <state.widget>. \n",
    "For example `s6.w7.Click` stands for: the widget `w7.Click` in the state `s6`.\n",
    "This allows the same widget and interaction to have different transitions in different states.\n",
    "\n",
    "\n",
    "## Grammar"
   ]
  },
  {
   "cell_type": "code",
   "execution_count": 25,
   "metadata": {
    "hidden": true
   },
   "outputs": [],
   "source": [
    "simple_ui_grammar = {\n",
    "'<empty>'             : \t\t[''],\n",
    "'<s1.w0.Click>'       : \t\t['<empty>', '<s2>'],\n",
    "'<s1>'                : \t\t['w0.Click <s1.w0.Click>'],\n",
    "'<s2.w1.Click>'       : \t\t['<empty>', '<s3>'],\n",
    "'<s2.w3.Click>'       : \t\t['<empty>', '<s4>'],\n",
    "'<s2>'                : \t\t['w1.Click <s2.w1.Click>', 'w3.Click <s2.w3.Click>'],\n",
    "'<s3.w2.Click>'       : \t\t['<empty>', '<s2>'],\n",
    "'<s3>'                : \t\t['w2.Click <s3.w2.Click>'],\n",
    "'<s4.w4.Click>'       : \t\t['<empty>', '<s4>'],\n",
    "'<s4.w5.LongClick>'   : \t\t['<empty>', '<s5>'],\n",
    "'<s4>'                : \t\t['w4.Click <s4.w4.Click>', 'w5.LongClick <s4.w5.LongClick>'],\n",
    "'<s5.w6.Click>'       : \t\t['<empty>', '<s6>'],\n",
    "'<s5>'                : \t\t['w6.Click <s5.w6.Click>'],\n",
    "'<s6.w7.Click>'       : \t\t['<empty>', '<s6>'],\n",
    "'<s6.w8.Click>'       : \t\t['<empty>', '<s6>'],\n",
    "'<s6>'                : \t\t['w7.Click <s6.w7.Click>', 'w8.Click <s6.w8.Click>'],\n",
    "'<start>'             : \t\t['<empty>', '<s1>']\n",
    "}"
   ]
  },
  {
   "cell_type": "markdown",
   "metadata": {
    "heading_collapsed": true
   },
   "source": [
    "# Fuzzing\n",
    "\n",
    "## Using expansion coverage\n",
    "\n",
    "With fuzzingbook's default implementation"
   ]
  },
  {
   "cell_type": "code",
   "execution_count": 26,
   "metadata": {
    "hidden": true
   },
   "outputs": [],
   "source": [
    "from GrammarCoverageFuzzer import GrammarCoverageFuzzer"
   ]
  },
  {
   "cell_type": "code",
   "execution_count": 27,
   "metadata": {
    "hidden": true
   },
   "outputs": [
    {
     "name": "stdout",
     "output_type": "stream",
     "text": [
      "w0.Click w3.Click w5.LongClick w6.Click w7.Click \n",
      "\n",
      "w0.Click \n",
      "w0.Click w1.Click \n",
      "w0.Click w3.Click \n",
      "w0.Click w1.Click w2.Click \n",
      "w0.Click w3.Click w4.Click \n",
      "w0.Click w3.Click w5.LongClick \n",
      "w0.Click w3.Click w4.Click w5.LongClick w6.Click \n",
      "w0.Click w1.Click w2.Click w3.Click w5.LongClick w6.Click w8.Click w8.Click \n",
      "w0.Click w3.Click w5.LongClick w6.Click w7.Click w7.Click \n"
     ]
    }
   ],
   "source": [
    "fuzzer = GrammarCoverageFuzzer(simple_ui_grammar, min_nonterminals=1)\n",
    "max_exp = fuzzer.max_expansion_coverage(max_depth=len(simple_ui_grammar))\n",
    "while len(max_exp - fuzzer.expansion_coverage()) > 0:\n",
    "    print(fuzzer.fuzz())"
   ]
  },
  {
   "cell_type": "markdown",
   "metadata": {
    "hidden": true
   },
   "source": [
    "## Using Term Coverage (Terminals and non-Terminals)\n",
    "\n",
    "Extension of fuzzingbook's implementation.\n",
    "\n",
    "Greedy algorithm."
   ]
  },
  {
   "cell_type": "code",
   "execution_count": 28,
   "metadata": {
    "hidden": true
   },
   "outputs": [],
   "source": [
    "import re\n",
    "from Grammars import START_SYMBOL, RE_NONTERMINAL, nonterminals\n",
    "from GrammarCoverageFuzzer import GrammarCoverageFuzzer"
   ]
  },
  {
   "cell_type": "markdown",
   "metadata": {
    "hidden": true
   },
   "source": [
    "### Extended Coverage measurement\n",
    "\n",
    "Number of times each symbol has been seem (necessary as all states can finish with $\\epsilon$)"
   ]
  },
  {
   "cell_type": "code",
   "execution_count": 29,
   "metadata": {
    "hidden": true
   },
   "outputs": [],
   "source": [
    "class TerminalCoverageGrammar(GrammarCoverageFuzzer):\n",
    "    def add_coverage(self, symbol, new_children):\n",
    "        \"\"\"Coverage computation: number of times each symbol has been seen\"\"\"\n",
    "        if self.log and symbol not in self.covered_expansions.keys():\n",
    "            print(\"Now covered:\", symbol)\n",
    "\n",
    "        if symbol not in self.covered_expansions.keys():\n",
    "            self.covered_expansions[symbol] = 0\n",
    "\n",
    "        curr_val = self.covered_expansions[symbol]\n",
    "        self.covered_expansions[symbol] = curr_val + 1\n",
    "    def reset_coverage(self):\n",
    "        self.covered_expansions = dict()\n",
    "\n",
    "    def expansion_coverage(self):\n",
    "        return self.covered_expansions.keys()"
   ]
  },
  {
   "cell_type": "markdown",
   "metadata": {
    "hidden": true
   },
   "source": [
    "### Obtain set of existing symbols\n",
    "\n",
    "Compute all existing symbols (terminals and non terminals) in the grammar:"
   ]
  },
  {
   "cell_type": "code",
   "execution_count": 30,
   "metadata": {
    "hidden": true
   },
   "outputs": [],
   "source": [
    "class TerminalCoverageGrammar(TerminalCoverageGrammar):\n",
    "    def all_symbols_grammar(self):\n",
    "        symbols = { START_SYMBOL }\n",
    "\n",
    "        for symbol in self.grammar.keys():\n",
    "            for expansion in self.grammar[symbol]:\n",
    "                for expansion_segment in list(filter(lambda x: x != \"\", re.split(RE_NONTERMINAL, expansion))):\n",
    "                    symbols.add(expansion_segment)\n",
    "\n",
    "        return symbols"
   ]
  },
  {
   "cell_type": "markdown",
   "metadata": {
    "hidden": true
   },
   "source": [
    "### Redefine non-covered elements\n",
    "\n",
    "Expansions with non-covered elements must use the new data type:"
   ]
  },
  {
   "cell_type": "code",
   "execution_count": 31,
   "metadata": {
    "hidden": true
   },
   "outputs": [],
   "source": [
    "class TerminalCoverageGrammar(TerminalCoverageGrammar):\n",
    "    def _uncovered_children(self, possible_children):\n",
    "        # Prefer uncovered expansions\n",
    "        uncovered_children = []\n",
    "        index_map = []\n",
    "        for idx, child_list in enumerate(possible_children):\n",
    "            for child_tuple in child_list:\n",
    "                (child, grand_child) = child_tuple\n",
    "                if child not in self.expansion_coverage() and child_list not in uncovered_children:\n",
    "                    uncovered_children.append(child_list)\n",
    "                    index_map.append(idx)\n",
    "\n",
    "        return index_map, uncovered_children"
   ]
  },
  {
   "cell_type": "markdown",
   "metadata": {
    "hidden": true
   },
   "source": [
    "### Determine minimally covered elements\n",
    "\n",
    "The same UI elements may be available in multiple states. Thus we should prioretize elements which have been seen the least when all elements have already been covered."
   ]
  },
  {
   "cell_type": "code",
   "execution_count": 32,
   "metadata": {
    "hidden": true
   },
   "outputs": [],
   "source": [
    "class TerminalCoverageGrammar(TerminalCoverageGrammar):\n",
    "    def _minimally_expanded(self, possible_children):\n",
    "        symbol_count = dict()\n",
    "        for idx, child_list in enumerate(possible_children):\n",
    "            for child_tuple in child_list:\n",
    "                (child, grand_child) = child_tuple\n",
    "\n",
    "                assert(child in self.covered_expansions.keys())\n",
    "                symbol_count[child] = self.covered_expansions[child]\n",
    "\n",
    "        min_count = min(symbol_count.values())\n",
    "\n",
    "        # Prefer least covered expansions\n",
    "        uncovered_children = []\n",
    "        index_map = []\n",
    "        for idx, child_list in enumerate(possible_children):\n",
    "            for child_tuple in child_list:\n",
    "                (child, grand_child) = child_tuple\n",
    "                if symbol_count[child] == min_count and child_list not in uncovered_children:\n",
    "                    uncovered_children.append(child_list)\n",
    "                    index_map.append(idx)\n",
    "\n",
    "        return index_map, uncovered_children"
   ]
  },
  {
   "cell_type": "markdown",
   "metadata": {
    "hidden": true
   },
   "source": [
    "### Add terminals to coverage\n",
    "\n",
    "Add terminals to the list of covered grammar elements"
   ]
  },
  {
   "cell_type": "code",
   "execution_count": 33,
   "metadata": {
    "hidden": true
   },
   "outputs": [],
   "source": [
    "class TerminalCoverageGrammar(TerminalCoverageGrammar):\n",
    "    def process_chosen_children(self, chosen_children, expansion):\n",
    "        \"\"\"Add terminals to coverage.\"\"\"\n",
    "        for expansion_segment in list(filter(lambda x: x != \"\", re.split(RE_NONTERMINAL, expansion))):\n",
    "            if expansion_segment not in nonterminals(expansion):\n",
    "                self.add_coverage(expansion_segment, chosen_children)\n",
    "        return chosen_children"
   ]
  },
  {
   "cell_type": "markdown",
   "metadata": {
    "hidden": true
   },
   "source": [
    "### Choose node expansion\n",
    "\n",
    "Update node expansion rules to guide expansion towards least explored elements"
   ]
  },
  {
   "cell_type": "code",
   "execution_count": 34,
   "metadata": {
    "hidden": true
   },
   "outputs": [],
   "source": [
    "class TerminalCoverageGrammar(TerminalCoverageGrammar):\n",
    "    def choose_node_expansion(self, node, possible_children):\n",
    "        index_map, uncovered_children = self._uncovered_children(possible_children)\n",
    "\n",
    "        if len(uncovered_children) == 0:\n",
    "            # Search for least explored\n",
    "            index_map, min_covered_children = self._minimally_expanded(possible_children)\n",
    "            # All expansions covered the same amount of times - use superclass method\n",
    "            index = self.choose_covered_node_expansion(node, min_covered_children)\n",
    "\n",
    "            return index_map[index]\n",
    "\n",
    "        # Select from uncovered nodes\n",
    "        index = self.choose_uncovered_node_expansion(node, uncovered_children)\n",
    "\n",
    "        return index_map[index]"
   ]
  },
  {
   "cell_type": "markdown",
   "metadata": {
    "hidden": true
   },
   "source": [
    "### Running the Fuzzer"
   ]
  },
  {
   "cell_type": "code",
   "execution_count": 35,
   "metadata": {
    "hidden": true
   },
   "outputs": [
    {
     "name": "stdout",
     "output_type": "stream",
     "text": [
      "\n",
      "w0.Click w1.Click w2.Click \n",
      "w0.Click w3.Click w5.LongClick w6.Click w8.Click w7.Click w7.Click \n",
      "w0.Click w3.Click w4.Click w4.Click w5.LongClick w6.Click w8.Click \n"
     ]
    }
   ],
   "source": [
    "fuzzer = TerminalCoverageGrammar(simple_ui_grammar, min_nonterminals=1, log=False)\n",
    "max_exp = fuzzer.all_symbols_grammar()\n",
    "while len(max_exp - fuzzer.expansion_coverage()) > 0:\n",
    "    print(fuzzer.fuzz())"
   ]
  },
  {
   "cell_type": "markdown",
   "metadata": {},
   "source": [
    "# Generate sets of inputs to cover all grammar terminals"
   ]
  },
  {
   "cell_type": "code",
   "execution_count": 36,
   "metadata": {},
   "outputs": [],
   "source": [
    "import json\n",
    "rootInputDir = '/Users/nataniel/Documents/saarland/repositories/test/droidgram/input'"
   ]
  },
  {
   "cell_type": "code",
   "execution_count": 37,
   "metadata": {},
   "outputs": [],
   "source": [
    "def generate_inputs(grammar):\n",
    "    fuzzer = TerminalCoverageGrammar(grammar, min_nonterminals=1, log=False)\n",
    "    max_exp = fuzzer.all_symbols_grammar()\n",
    "    reached = set()\n",
    "    while len(max_exp - fuzzer.expansion_coverage()) > 0:\n",
    "        inp = fuzzer.fuzz()\n",
    "        reached.add(inp)\n",
    "    \n",
    "    return reached"
   ]
  },
  {
   "cell_type": "code",
   "execution_count": 38,
   "metadata": {},
   "outputs": [],
   "source": [
    "def save_inputs_to_file(inputs, package_name, seed_id):\n",
    "    filename = '%s/%s/inputs%02d.txt' % (rootInputDir, package_name, seed_id)\n",
    "    print(filename)\n",
    "    f = open(filename, 'w')\n",
    "    \n",
    "    for x in inputs:\n",
    "        f.write(x + \"\\n\")\n",
    "        \n",
    "    f.close()"
   ]
  },
  {
   "cell_type": "code",
   "execution_count": 39,
   "metadata": {},
   "outputs": [],
   "source": [
    "def load_grammar(package_name):\n",
    "    filename = '%s/%s/grammar.txt' % (rootInputDir, package_name)\n",
    "    with open(filename) as f:\n",
    "        return json.load(f)"
   ]
  },
  {
   "cell_type": "code",
   "execution_count": 40,
   "metadata": {},
   "outputs": [],
   "source": [
    "def generate_experiments_inputs(package_name):\n",
    "    for i in range(11):\n",
    "        grammar = load_grammar(package_name)\n",
    "        inputs = generate_inputs(grammar)\n",
    "        save_inputs_to_file(inputs, package_name, i)"
   ]
  },
  {
   "cell_type": "markdown",
   "metadata": {
    "heading_collapsed": true
   },
   "source": [
    "# Larger example (XKCD - 20 Actions)"
   ]
  },
  {
   "cell_type": "code",
   "execution_count": 41,
   "metadata": {
    "hidden": true
   },
   "outputs": [],
   "source": [
    "xkcd_grammar = {\n",
    "'<empty>'             : \t\t[''],\n",
    "'<s01.w00.ClickEvent>' : \t\t['<empty>', '<s02>'],\n",
    "'<s01.w03.ClickEvent>' : \t\t['<empty>', '<s04>'],\n",
    "'<s01.w07.ClickEvent>' : \t\t['<empty>', '<s07>'],\n",
    "'<s01>'               : \t\t['w00.ClickEvent <s01.w00.ClickEvent>', 'w02.LongClickEvent <start>', 'w03.ClickEvent <s01.w03.ClickEvent>', 'w06.LongClickEvent <start>', 'w07.ClickEvent <s01.w07.ClickEvent>'],\n",
    "'<s02.w01.Tick>'      : \t\t['<empty>', '<s03>'],\n",
    "'<s02>'               : \t\t['w01.Tick <s02.w01.Tick>'],\n",
    "'<s03.PressBack>'     : \t\t['<empty>', '<s01>', '<s07>'],\n",
    "'<s03>'               : \t\t['<s03.PressBack>'],\n",
    "'<s04.w04.ClickEvent>' : \t\t['<empty>', '<s05>'],\n",
    "'<s04>'               : \t\t['w04.ClickEvent <s04.w04.ClickEvent>'],\n",
    "'<s05.w05.ClickEvent>' : \t\t['<empty>', '<s06>'],\n",
    "'<s05>'               : \t\t['w05.ClickEvent <s05.w05.ClickEvent>'],\n",
    "'<s06>'               : \t\t['<start>'],\n",
    "'<s07.w00.ClickEvent>' : \t\t['<empty>', '<s09>'],\n",
    "'<s07.w02.ClickEvent>' : \t\t['<empty>', '<s10>'],\n",
    "'<s07.w06.ClickEvent>' : \t\t['<empty>', '<s08>'],\n",
    "'<s07>'               : \t\t['<empty>', 'w00.ClickEvent <s07.w00.ClickEvent>', 'w02.ClickEvent <s07.w02.ClickEvent>', 'w03.LongClickEvent <s01.w07.ClickEvent>', 'w06.ClickEvent <s07.w06.ClickEvent>', 'w07.ClickEvent <s01.w07.ClickEvent>'],\n",
    "'<s08>'               : \t\t['w08.ClickEvent <s01.w07.ClickEvent>'],\n",
    "'<s09>'               : \t\t['w09.ClickEvent <s02.w01.Tick>'],\n",
    "'<s10>'               : \t\t['w10.Click <s01.w07.ClickEvent>'],\n",
    "'<start>'             : \t\t['<empty>', '<s01>']\n",
    "}"
   ]
  },
  {
   "cell_type": "code",
   "execution_count": 42,
   "metadata": {
    "hidden": true,
    "scrolled": false
   },
   "outputs": [],
   "source": [
    "#generate_experiments_inputs(xkcd_grammar, \"de.tap.easy_xkcd\")"
   ]
  },
  {
   "cell_type": "markdown",
   "metadata": {
    "heading_collapsed": true
   },
   "source": [
    "# Another Example (aMetro - 20 Actions)"
   ]
  },
  {
   "cell_type": "code",
   "execution_count": 43,
   "metadata": {
    "hidden": true
   },
   "outputs": [],
   "source": [
    "ametro_grammar = {\n",
    "    '<ClickEvent(s01.w00)>' : \t\t['<empty>', '<s02>'],\n",
    "    '<ClickEvent(s01.w03)>' : \t\t['<empty>', '<s03>'],\n",
    "    '<ClickEvent(s02.w08)>' : \t\t['<empty>', '<s05>'],\n",
    "    '<ClickEvent(s02.w12)>' : \t\t['<empty>', '<s07>'],\n",
    "    '<ClickEvent(s03.w04)>' : \t\t['<empty>', '<s04>'],\n",
    "    '<ClickEvent(s05.w09)>' : \t\t['<empty>', '<s06>'],\n",
    "    '<ClickEvent(s07.w13)>' : \t\t['<empty>', '<s08>'],\n",
    "    '<ClickEvent(s08.w14)>' : \t\t['<empty>', '<s09>'],\n",
    "    '<ClickEvent(s09.w15)>' : \t\t['<empty>', '<s10>'],\n",
    "    '<empty>'             : \t\t[''],\n",
    "    '<s01>'               : \t\t['ClickEvent(w00) <ClickEvent(s01.w00)>', 'ClickEvent(w03) <ClickEvent(s01.w03)>', 'LongClickEvent(w02) <start>'],\n",
    "    '<s02>'               : \t\t['ClickEvent(w01) <start>', 'ClickEvent(w08) <ClickEvent(s02.w08)>', 'ClickEvent(w12) <ClickEvent(s02.w12)>'],\n",
    "    '<s03>'               : \t\t['ClickEvent(w04) <ClickEvent(s03.w04)>', 'ClickEvent(w06) <start>', 'ClickEvent(w07) <ClickEvent(s01.w00)>'],\n",
    "    '<s04>'               : \t\t['ClickEvent(w01) <ClickEvent(s01.w03)>', 'LongClickEvent(w05) <ClickEvent(s03.w04)>'],\n",
    "    '<s05>'               : \t\t['ClickEvent(w09) <ClickEvent(s05.w09)>'],\n",
    "    '<s06>'               : \t\t['ClickEvent(w11) <ClickEvent(s01.w00)>', 'LongClickEvent(w10) <ClickEvent(s05.w09)>'],\n",
    "    '<s07>'               : \t\t['ClickEvent(w13) <ClickEvent(s07.w13)>'],\n",
    "    '<s08>'               : \t\t['ClickEvent(w14) <ClickEvent(s08.w14)>'],\n",
    "    '<s09>'               : \t\t['ClickEvent(w15) <ClickEvent(s09.w15)>'],\n",
    "    '<s10>'               : \t\t['<empty>', 'ClickEvent(w16) <ClickEvent(s09.w15)>'],\n",
    "    '<start>'             : \t\t['<empty>', '<s01>']\n",
    "}"
   ]
  },
  {
   "cell_type": "code",
   "execution_count": 44,
   "metadata": {
    "hidden": true
   },
   "outputs": [],
   "source": [
    "#generate_experiments_inputs(ametro_grammar, \"org.ametro\")"
   ]
  },
  {
   "cell_type": "markdown",
   "metadata": {
    "heading_collapsed": true
   },
   "source": [
    "# aMetro - 100 actions"
   ]
  },
  {
   "cell_type": "code",
   "execution_count": 45,
   "metadata": {
    "hidden": true
   },
   "outputs": [],
   "source": [
    "test_grammar = {\n",
    "'<Click(s16.w27)>'    : \t\t['<empty>', '<s27>'],\n",
    "'<Click(s19.w27)>'    : \t\t['<empty>', '<s20>'],\n",
    "'<Click(s25.w27)>'    : \t\t['<empty>', '<s26>'],\n",
    "'<ClickEvent(s01.w00)>' : \t\t['<empty>', '<s02>', '<s16>'],\n",
    "'<ClickEvent(s01.w03)>' : \t\t['<empty>', '<s03>'],\n",
    "'<ClickEvent(s02.w08)>' : \t\t['<empty>', '<s05>'],\n",
    "'<ClickEvent(s02.w10)>' : \t\t['<empty>', '<s07>'],\n",
    "'<ClickEvent(s02.w12)>' : \t\t['<empty>', '<s07>', '<s13>'],\n",
    "'<ClickEvent(s03.w04)>' : \t\t['<empty>', '<s04>'],\n",
    "'<ClickEvent(s03.w07)>' : \t\t['<empty>', '<s02>'],\n",
    "'<ClickEvent(s04.w01)>' : \t\t['<empty>', '<s03>', '<s27>'],\n",
    "'<ClickEvent(s05.w09)>' : \t\t['<empty>', '<s06>'],\n",
    "'<ClickEvent(s07.w02)>' : \t\t['<empty>', '<s08>'],\n",
    "'<ClickEvent(s08.w13)>' : \t\t['<empty>', '<s09>'],\n",
    "'<ClickEvent(s09.w14)>' : \t\t['<empty>', '<s10>'],\n",
    "'<ClickEvent(s09.w16)>' : \t\t['<empty>', '<s11>'],\n",
    "'<ClickEvent(s11.w17)>' : \t\t['<empty>', '<s12>'],\n",
    "'<ClickEvent(s12.w18)>' : \t\t['<empty>', '<s13>'],\n",
    "'<ClickEvent(s12.w25)>' : \t\t['<empty>', '<s18>'],\n",
    "'<ClickEvent(s13.w19)>' : \t\t['<empty>', '<s14>'],\n",
    "'<ClickEvent(s13.w26)>' : \t\t['<empty>', '<s28>'],\n",
    "'<ClickEvent(s13.w35)>' : \t\t['<empty>', '<s23>'],\n",
    "'<ClickEvent(s14.w20)>' : \t\t['<empty>', '<s15>'],\n",
    "'<ClickEvent(s15.w21)>' : \t\t['<empty>', '<s00>'],\n",
    "'<ClickEvent(s18.w14)>' : \t\t['<empty>', '<s24>'],\n",
    "'<ClickEvent(s18.w26)>' : \t\t['<empty>', '<s19>'],\n",
    "'<ClickEvent(s21.w02)>' : \t\t['<empty>', '<s30>'],\n",
    "'<ClickEvent(s21.w03)>' : \t\t['<empty>', '<s22>', '<s27>'],\n",
    "'<ClickEvent(s21.w28)>' : \t\t['<empty>', '<s21>'],\n",
    "'<ClickEvent(s22.w30)>' : \t\t['<empty>', '<s22>'],\n",
    "'<ClickEvent(s24.w36)>' : \t\t['<empty>', '<s25>'],\n",
    "'<ClickEvent(s26.w11)>' : \t\t['<empty>', '<s16>'],\n",
    "'<ClickEvent(s28.w24)>' : \t\t['<empty>', '<s29>'],\n",
    "'<LongClickEvent(s16.w22)>' : \t\t['<empty>', '<s17>'],\n",
    "'<PressBack(s00)>'    : \t\t['<s01>'],\n",
    "'<PressBack(s20)>'    : \t\t['<s21>'],\n",
    "'<TextInsert(s30.w38,lixxdwxhjctsalrmgb)>' : \t\t['<empty>', '<s31>'],\n",
    "'<empty>'             : \t\t[''],\n",
    "'<s00>'               : \t\t['<PressBack(s00)>'],\n",
    "'<s01>'               : \t\t['ClickEvent(w00) <ClickEvent(s01.w00)>', 'ClickEvent(w03) <ClickEvent(s01.w03)>', 'LongClickEvent(w02) <start>'],\n",
    "'<s02>'               : \t\t['ClickEvent(w01) <start>', 'ClickEvent(w08) <ClickEvent(s02.w08)>', 'ClickEvent(w10) <ClickEvent(s02.w10)>', 'ClickEvent(w12) <ClickEvent(s02.w12)>', 'LongClickEvent(w02) <ClickEvent(s03.w07)>', 'LongClickEvent(w10) <ClickEvent(s03.w07)>'],\n",
    "'<s03>'               : \t\t['ClickEvent(w00) <ClickEvent(s03.w07)>', 'ClickEvent(w04) <ClickEvent(s03.w04)>', 'ClickEvent(w06) <start>', 'ClickEvent(w07) <ClickEvent(s03.w07)>'],\n",
    "'<s04>'               : \t\t['ClickEvent(w01) <ClickEvent(s04.w01)>', 'LongClickEvent(w05) <ClickEvent(s03.w04)>'],\n",
    "'<s05>'               : \t\t['ClickEvent(w09) <ClickEvent(s05.w09)>', 'ClickEvent(w34) <ClickEvent(s01.w00)>'],\n",
    "'<s06>'               : \t\t['ClickEvent(w11) <ClickEvent(s03.w07)>', 'ClickEvent(w12) <ClickEvent(s12.w18)>', 'LongClickEvent(w10) <ClickEvent(s05.w09)>', 'LongClickEvent(w23) <ClickEvent(s05.w09)>'],\n",
    "'<s07>'               : \t\t['ClickEvent(w01) <ClickEvent(s03.w07)>', 'ClickEvent(w02) <ClickEvent(s07.w02)>'],\n",
    "'<s08>'               : \t\t['ClickEvent(w13) <ClickEvent(s08.w13)>'],\n",
    "'<s09>'               : \t\t['ClickEvent(w14) <ClickEvent(s09.w14)>', 'ClickEvent(w16) <ClickEvent(s09.w16)>'],\n",
    "'<s10>'               : \t\t['ClickEvent(w15) <ClickEvent(s08.w13)>'],\n",
    "'<s11>'               : \t\t['ClickEvent(w17) <ClickEvent(s11.w17)>'],\n",
    "'<s12>'               : \t\t['ClickEvent(w18) <ClickEvent(s12.w18)>', 'ClickEvent(w25) <ClickEvent(s12.w25)>'],\n",
    "'<s13>'               : \t\t['ClickEvent(w19) <ClickEvent(s13.w19)>', 'ClickEvent(w24) <ClickEvent(s11.w17)>', 'ClickEvent(w26) <ClickEvent(s13.w26)>', 'ClickEvent(w35) <ClickEvent(s13.w35)>'],\n",
    "'<s14>'               : \t\t['ClickEvent(w20) <ClickEvent(s14.w20)>'],\n",
    "'<s15>'               : \t\t['ClickEvent(w21) <ClickEvent(s15.w21)>'],\n",
    "'<s16>'               : \t\t['Click(w27) <Click(s16.w27)>', 'ClickEvent(w08) <ClickEvent(s02.w08)>', 'ClickEvent(w10) <ClickEvent(s12.w18)>', 'LongClickEvent(w22) <LongClickEvent(s16.w22)>'],\n",
    "'<s17>'               : \t\t['ClickEvent(w23) <ClickEvent(s03.w07)>'],\n",
    "'<s18>'               : \t\t['ClickEvent(w14) <ClickEvent(s18.w14)>', 'ClickEvent(w26) <ClickEvent(s18.w26)>'],\n",
    "'<s19>'               : \t\t['Click(w27) <Click(s19.w27)>'],\n",
    "'<s20>'               : \t\t['<PressBack(s20)>'],\n",
    "'<s21>'               : \t\t['ClickEvent(w02) <ClickEvent(s21.w02)>', 'ClickEvent(w03) <ClickEvent(s21.w03)>', 'ClickEvent(w28) <ClickEvent(s21.w28)>', 'LongClickEvent(w02) <ClickEvent(s21.w28)>'],\n",
    "'<s22>'               : \t\t['ClickEvent(w29) <ClickEvent(s21.w28)>', 'ClickEvent(w30) <ClickEvent(s22.w30)>', 'ClickEvent(w31) <ClickEvent(s21.w28)>', 'ClickEvent(w33) <ClickEvent(s22.w30)>', 'Tick(w32) <ClickEvent(s22.w30)>'],\n",
    "'<s23>'               : \t\t['ClickEvent(w21) <ClickEvent(s12.w25)>'],\n",
    "'<s24>'               : \t\t['ClickEvent(w36) <ClickEvent(s24.w36)>'],\n",
    "'<s25>'               : \t\t['Click(w27) <Click(s25.w27)>'],\n",
    "'<s26>'               : \t\t['ClickEvent(w11) <ClickEvent(s26.w11)>'],\n",
    "'<s27>'               : \t\t['<empty>', 'ClickEvent(w04) <ClickEvent(s03.w04)>', 'ClickEvent(w07) <ClickEvent(s26.w11)>', 'ClickEvent(w29) <ClickEvent(s21.w28)>', 'ClickEvent(w31) <ClickEvent(s21.w28)>'],\n",
    "'<s28>'               : \t\t['ClickEvent(w24) <ClickEvent(s28.w24)>'],\n",
    "'<s29>'               : \t\t['ClickEvent(w37) <ClickEvent(s21.w28)>'],\n",
    "'<s30>'               : \t\t['ClickEvent(w17) <ClickEvent(s21.w28)>', 'ClickEvent(w28) <ClickEvent(s21.w02)>', 'TextInsert(w38,bexyp) <TextInsert(s30.w38,lixxdwxhjctsalrmgb)>', 'TextInsert(w38,lixxdwxhjctsalrmgb) <TextInsert(s30.w38,lixxdwxhjctsalrmgb)>'],\n",
    "'<s31>'               : \t\t['ClickEvent(w17) <ClickEvent(s21.w28)>', 'ClickEvent(w39) <ClickEvent(s21.w02)>'],\n",
    "'<start>'             : \t\t['<empty>', '<s01>'],\n",
    "}"
   ]
  },
  {
   "cell_type": "code",
   "execution_count": 46,
   "metadata": {
    "hidden": true
   },
   "outputs": [],
   "source": [
    "#generate_experiments_inputs(test_grammar, \"org.ametro\")"
   ]
  },
  {
   "cell_type": "markdown",
   "metadata": {
    "heading_collapsed": true
   },
   "source": [
    "# Easy XKCD 500"
   ]
  },
  {
   "cell_type": "code",
   "execution_count": 47,
   "metadata": {
    "hidden": true
   },
   "outputs": [],
   "source": [
    "test_grammar = {\n",
    "'<Click(s10.w10)>'    : \t\t['<s01>', '<s02>', '<s06>'],\n",
    "'<ClickEvent(s02.w02)>' : \t\t['<s10>', '<s30>'],\n",
    "'<ClickEvent(s04.w04)>' : \t\t['<s02>', '<s05>'],\n",
    "'<ClickEvent(s06.w02)>' : \t\t['<s06>', '<s10>', '<s24>'],\n",
    "'<ClickEvent(s06.w03)>' : \t\t['<s04>', '<s28>'],\n",
    "'<ClickEvent(s08.w02)>' : \t\t['<s08>', '<s27>'],\n",
    "'<ClickEvent(s08.w09)>' : \t\t['<s09>', '<s21>'],\n",
    "'<ClickEvent(s20.w02)>' : \t\t['<s08>', '<s29>'],\n",
    "'<LongClickEvent(s08.w05)>' : \t\t['<s02>', '<s08>'],\n",
    "'<LongClickEvent(s20.w05)>' : \t\t['<s08>', '<s20>'],\n",
    "'<PressBack(s03)>'    : \t\t['<s01>', '<s06>', '<s07>'],\n",
    "'<PressBack(s09)>'    : \t\t['<s00>', '<s06>'],\n",
    "'<PressBack(s14)>'    : \t\t['<s20>', '<s31>'],\n",
    "'<Tick(s02.w01)>'     : \t\t['<s03>', '<s13>'],\n",
    "'<Tick(s04.w07)>'     : \t\t['<s01>', '<s06>'],\n",
    "'<Tick(s08.w01)>'     : \t\t['<s03>', '<s06>', '<s21>'],\n",
    "'<empty>'             : \t\t[''],\n",
    "'<s00>'               : \t\t['<empty>'],\n",
    "'<s01>'               : \t\t['<empty>', 'ClickEvent(w00) <s02>', 'ClickEvent(w02) <s10>', 'ClickEvent(w03) <s04>', 'ClickEvent(w05) <s06>', 'ClickEvent(w06) <s11>', 'LongClickEvent(w02) <s01>', 'LongClickEvent(w03) <s01>', 'LongClickEvent(w05) <s01>', 'LongClickEvent(w06) <s01>'],\n",
    "'<s02>'               : \t\t['<empty>', 'ClickEvent(w02) <ClickEvent(s02.w02)>', 'ClickEvent(w03) <s04>', 'ClickEvent(w05) <s08>', 'ClickEvent(w06) <s31>', 'ClickEvent(w09) <s01>', 'LongClickEvent(w02) <s02>', 'LongClickEvent(w03) <s02>', 'LongClickEvent(w05) <s02>', 'LongClickEvent(w06) <s02>', 'Tick(w01) <Tick(s02.w01)>'],\n",
    "'<s03>'               : \t\t['<empty>', 'PressBack(s03) <PressBack(s03)>'],\n",
    "'<s04>'               : \t\t['<empty>', 'ClickEvent(w04) <ClickEvent(s04.w04)>', 'ClickEvent(w12) <Tick(s04.w07)>', 'Tick(w07) <Tick(s04.w07)>'],\n",
    "'<s05>'               : \t\t['<empty>', 'PressBack(s05) <s01>'],\n",
    "'<s06>'               : \t\t['<empty>', 'ClickEvent(w00) <s08>', 'ClickEvent(w02) <ClickEvent(s06.w02)>', 'ClickEvent(w03) <ClickEvent(s06.w03)>', 'ClickEvent(w05) <s06>', 'ClickEvent(w06) <s07>', 'LongClickEvent(w02) <s06>', 'LongClickEvent(w03) <s06>', 'LongClickEvent(w05) <s06>', 'LongClickEvent(w06) <s06>'],\n",
    "'<s07>'               : \t\t['<empty>', 'ClickEvent(w02) <s06>', 'ClickEvent(w05) <s09>', 'ClickEvent(w08) <s06>', 'LongClickEvent(w02) <s07>', 'LongClickEvent(w03) <s07>', 'TextInsert(w11,hufojcmxghpteqrgf) <s12>'],\n",
    "'<s08>'               : \t\t['<empty>', '<s00>', 'ClickEvent(w02) <ClickEvent(s08.w02)>', 'ClickEvent(w03) <ClickEvent(s06.w03)>', 'ClickEvent(w05) <s08>', 'ClickEvent(w06) <s20>', 'ClickEvent(w09) <ClickEvent(s08.w09)>', 'LongClickEvent(w02) <s08>', 'LongClickEvent(w03) <s08>', 'LongClickEvent(w05) <LongClickEvent(s08.w05)>', 'LongClickEvent(w06) <s08>', 'Tick(w01) <Tick(s08.w01)>'],\n",
    "'<s09>'               : \t\t['<empty>', 'PressBack(s09) <PressBack(s09)>'],\n",
    "'<s10>'               : \t\t['<empty>', 'Click(w10) <Click(s10.w10)>'],\n",
    "'<s11>'               : \t\t['<empty>', 'ClickEvent(w02) <s16>', 'ClickEvent(w03) <s14>', 'ClickEvent(w08) <s01>', 'LongClickEvent(w05) <s11>', 'TextInsert(w11,xjtgdyxkr) <s12>'],\n",
    "'<s12>'               : \t\t['<empty>', 'PressBack(s12) <s12>'],\n",
    "'<s13>'               : \t\t['<empty>', 'ClickEvent(w14) <s01>', 'LongClickEvent(w13) <s13>'],\n",
    "'<s14>'               : \t\t['<empty>', 'ClickEvent(w04) <s15>', 'PressBack(s14) <PressBack(s14)>'],\n",
    "'<s15>'               : \t\t['<empty>', 'PressBack(s15) <s11>'],\n",
    "'<s16>'               : \t\t['<empty>', 'ClickEvent(w15) <s17>'],\n",
    "'<s17>'               : \t\t['<empty>', 'ClickEvent(w08) <s18>'],\n",
    "'<s18>'               : \t\t['<empty>', 'ClickEvent(w00) <s19>'],\n",
    "'<s19>'               : \t\t['<empty>', 'ClickEvent(w09) <s01>'],\n",
    "'<s20>'               : \t\t['<empty>', 'ClickEvent(w02) <ClickEvent(s20.w02)>', 'ClickEvent(w03) <s14>', 'ClickEvent(w05) <s08>', 'ClickEvent(w09) <s03>', 'LongClickEvent(w02) <s20>', 'LongClickEvent(w05) <LongClickEvent(s20.w05)>', 'Tick(w01) <s07>'],\n",
    "'<s21>'               : \t\t['<empty>', 'ClickEvent(w14) <s06>', 'ClickEvent(w16) <s22>', 'ClickEvent(w20) <s25>'],\n",
    "'<s22>'               : \t\t['<empty>', 'ClickEvent(w14) <s06>', 'Tick(w17) <s23>'],\n",
    "'<s23>'               : \t\t['<empty>', 'ClickEvent(w18) <s22>'],\n",
    "'<s24>'               : \t\t['<empty>', 'ClickEvent(w00) <s08>', 'ClickEvent(w15) <s06>', 'ClickEvent(w19) <s06>'],\n",
    "'<s25>'               : \t\t['<empty>', 'ClickEvent(w14) <s21>', 'ClickEvent(w16) <s26>', 'ClickEvent(w21) <s25>', 'Tick(w17) <s25>'],\n",
    "'<s26>'               : \t\t['<empty>', 'Tick(w22) <s25>'],\n",
    "'<s27>'               : \t\t['<empty>', 'ClickEvent(w02) <s08>', 'ClickEvent(w03) <s04>', 'ClickEvent(w15) <s08>', 'ClickEvent(w19) <s08>', 'LongClickEvent(w05) <s08>', 'LongClickEvent(w06) <s08>'],\n",
    "'<s28>'               : \t\t['<empty>', 'ClickEvent(w12) <s06>', 'Tick(w07) <s06>'],\n",
    "'<s29>'               : \t\t['<empty>', 'ClickEvent(w05) <s08>', 'ClickEvent(w15) <s20>', 'ClickEvent(w19) <s20>', 'LongClickEvent(w03) <s20>'],\n",
    "'<s30>'               : \t\t['<empty>', 'ClickEvent(w15) <s02>', 'ClickEvent(w19) <s02>', 'LongClickEvent(w06) <s02>'],\n",
    "'<s31>'               : \t\t['<empty>', 'ClickEvent(w02) <s02>', 'ClickEvent(w03) <s14>', 'ClickEvent(w05) <s08>', 'LongClickEvent(w02) <s31>', 'LongClickEvent(w05) <s31>'],\n",
    "'<start>'             : \t\t['<empty>', '<s01>'],\n",
    "}"
   ]
  },
  {
   "cell_type": "code",
   "execution_count": 48,
   "metadata": {
    "hidden": true,
    "scrolled": true
   },
   "outputs": [],
   "source": [
    "#generate_experiments_inputs(test_grammar, \"de.tap.easy_xkcd\")"
   ]
  },
  {
   "cell_type": "markdown",
   "metadata": {
    "heading_collapsed": true
   },
   "source": [
    "# Drinks"
   ]
  },
  {
   "cell_type": "code",
   "execution_count": 49,
   "metadata": {
    "hidden": true
   },
   "outputs": [],
   "source": [
    "test_grammar = {\n",
    "    '<ClickEvent(s01.w00)>' : \t\t['<s02>', '<s10>', '<s13>', '<s15>', '<s19>', '<s22>'],\n",
    "'<ClickEvent(s02.w02)>' : \t\t['<s01>', '<s07>'],\n",
    "'<ClickEvent(s04.w00)>' : \t\t['<s13>', '<s19>', '<s22>'],\n",
    "'<ClickEvent(s05.w05)>' : \t\t['<s06>', '<s20>', '<s24>'],\n",
    "'<ClickEvent(s07.w00)>' : \t\t['<s08>', '<s09>', '<s11>', '<s16>', '<s17>', '<s26>'],\n",
    "'<ClickEvent(s11.w00)>' : \t\t['<s21>', '<s25>'],\n",
    "'<ClickEvent(s17.w00)>' : \t\t['<s23>', '<s27>'],\n",
    "'<ClickEvent(s19.w02)>' : \t\t['<s01>', '<s04>'],\n",
    "'<PressBack(s03)>'    : \t\t['<s02>', '<s09>'],\n",
    "'<PressBack(s06)>'    : \t\t['<s01>', '<s04>', '<s07>'],\n",
    "'<PressBack(s14)>'    : \t\t['<s13>', '<s15>'],\n",
    "'<PressBack(s20)>'    : \t\t['<s01>', '<s04>', '<s07>', '<s12>'],\n",
    "'<empty>'             : \t\t[''],\n",
    "'<s00>'               : \t\t['<empty>'],\n",
    "'<s01>'               : \t\t['<empty>', 'ClickEvent(w00) <ClickEvent(s01.w00)>', 'ClickEvent(w03) <s04>', 'ClickEvent(w04) <s05>', 'ClickEvent(w06) <s01>', 'ClickEvent(w07) <s07>', 'LongClickEvent(w04) <s01>'],\n",
    "'<s02>'               : \t\t['<empty>', 'ClickEvent(w01) <s03>', 'ClickEvent(w02) <ClickEvent(s02.w02)>'],\n",
    "'<s03>'               : \t\t['<empty>', 'PressBack(s03) <PressBack(s03)>'],\n",
    "'<s04>'               : \t\t['<empty>', 'ClickEvent(w00) <ClickEvent(s04.w00)>', 'ClickEvent(w04) <s05>', 'ClickEvent(w06) <s04>', 'ClickEvent(w07) <s07>', 'ClickEvent(w08) <s01>', 'LongClickEvent(w04) <s04>', 'TextInsert(w10,havokalutlssyaxa) <s12>', 'TextInsert(w10,hzbgizpsprwjwiymmxi) <s12>', 'TextInsert(w10,klvlbxpacesklbamhvcwhq) <s12>', 'TextInsert(w10,mdvlfxyqrs) <s12>', 'TextInsert(w10,mxghpteqrgfnzdjsjggwx) <s12>', 'TextInsert(w10,pxhacjxvqoh) <s12>', 'TextInsert(w10,repnhuagxqyganbb) <s12>', 'TextInsert(w10,snlzxif) <s12>', 'TextInsert(w10,ueksvynyimboq) <s12>', 'TextInsert(w10,vzumetfsaiegjuepkgoxx) <s12>'],\n",
    "'<s05>'               : \t\t['<empty>', 'ClickEvent(w05) <ClickEvent(s05.w05)>'],\n",
    "'<s06>'               : \t\t['<empty>', 'PressBack(s06) <PressBack(s06)>'],\n",
    "'<s07>'               : \t\t['<empty>', '<s00>', 'ClickEvent(w00) <ClickEvent(s07.w00)>', 'ClickEvent(w04) <s05>', 'ClickEvent(w06) <s01>', 'ClickEvent(w07) <s07>', 'LongClickEvent(w04) <s07>'],\n",
    "'<s08>'               : \t\t['<empty>', 'ClickEvent(w00) <s13>', 'ClickEvent(w02) <s07>'],\n",
    "'<s09>'               : \t\t['<empty>', 'ClickEvent(w00) <s18>', 'ClickEvent(w01) <s03>', 'ClickEvent(w02) <s07>'],\n",
    "'<s10>'               : \t\t['<empty>', 'ClickEvent(w02) <s01>', 'LongClickEvent(w09) <s10>'],\n",
    "'<s11>'               : \t\t['<empty>', 'ClickEvent(w00) <ClickEvent(s11.w00)>', 'ClickEvent(w02) <s07>'],\n",
    "'<s12>'               : \t\t['<empty>', 'ClickEvent(w04) <s05>', 'ClickEvent(w06) <s12>', 'ClickEvent(w07) <s07>', 'ClickEvent(w08) <s04>', 'LongClickEvent(w04) <s12>'],\n",
    "'<s13>'               : \t\t['<empty>', 'ClickEvent(w02) <PressBack(s06)>', 'ClickEvent(w09) <s14>', 'LongClickEvent(w09) <s13>'],\n",
    "'<s14>'               : \t\t['<empty>', 'PressBack(s14) <PressBack(s14)>'],\n",
    "'<s15>'               : \t\t['<empty>', 'ClickEvent(w02) <ClickEvent(s02.w02)>', 'ClickEvent(w09) <s14>'],\n",
    "'<s16>'               : \t\t['<empty>', 'ClickEvent(w00) <s15>', 'ClickEvent(w02) <s07>'],\n",
    "'<s17>'               : \t\t['<empty>', 'ClickEvent(w00) <ClickEvent(s17.w00)>', 'ClickEvent(w02) <s07>'],\n",
    "'<s18>'               : \t\t['<empty>', 'ClickEvent(w02) <s07>'],\n",
    "'<s19>'               : \t\t['<empty>', 'ClickEvent(w02) <ClickEvent(s19.w02)>'],\n",
    "'<s20>'               : \t\t['<empty>', 'PressBack(s20) <PressBack(s20)>'],\n",
    "'<s21>'               : \t\t['<empty>', 'ClickEvent(w02) <s07>'],\n",
    "'<s22>'               : \t\t['<empty>', 'ClickEvent(w02) <ClickEvent(s19.w02)>'],\n",
    "'<s23>'               : \t\t['<empty>', 'ClickEvent(w02) <s07>'],\n",
    "'<s24>'               : \t\t['<empty>', 'ClickEvent(w02) <PressBack(s06)>'],\n",
    "'<s25>'               : \t\t['<empty>', 'ClickEvent(w02) <s07>'],\n",
    "'<s26>'               : \t\t['<empty>', 'ClickEvent(w00) <s02>', 'ClickEvent(w02) <s07>'],\n",
    "'<s27>'               : \t\t['<empty>', 'ClickEvent(w02) <s07>'],\n",
    "'<s28>'               : \t\t['<empty>', 'ClickEvent(w03) <s04>'],\n",
    "'<start>'             : \t\t['<empty>', '<s01>', '<s28>'],\n",
    "}"
   ]
  },
  {
   "cell_type": "code",
   "execution_count": 50,
   "metadata": {
    "hidden": true
   },
   "outputs": [],
   "source": [
    "#generate_experiments_inputs(test_grammar, \"fr.masciulli.drinks\")"
   ]
  },
  {
   "cell_type": "markdown",
   "metadata": {},
   "source": [
    "# nerd.tuxmobil.fahrplan.congress - 500 actions"
   ]
  },
  {
   "cell_type": "code",
   "execution_count": 51,
   "metadata": {},
   "outputs": [
    {
     "name": "stdout",
     "output_type": "stream",
     "text": [
      "/Users/nataniel/Documents/saarland/repositories/test/droidgram/input/nerd.tuxmobil.fahrplan.congress/inputs00.txt\n",
      "/Users/nataniel/Documents/saarland/repositories/test/droidgram/input/nerd.tuxmobil.fahrplan.congress/inputs01.txt\n",
      "/Users/nataniel/Documents/saarland/repositories/test/droidgram/input/nerd.tuxmobil.fahrplan.congress/inputs02.txt\n",
      "/Users/nataniel/Documents/saarland/repositories/test/droidgram/input/nerd.tuxmobil.fahrplan.congress/inputs03.txt\n",
      "/Users/nataniel/Documents/saarland/repositories/test/droidgram/input/nerd.tuxmobil.fahrplan.congress/inputs04.txt\n",
      "/Users/nataniel/Documents/saarland/repositories/test/droidgram/input/nerd.tuxmobil.fahrplan.congress/inputs05.txt\n",
      "/Users/nataniel/Documents/saarland/repositories/test/droidgram/input/nerd.tuxmobil.fahrplan.congress/inputs06.txt\n",
      "/Users/nataniel/Documents/saarland/repositories/test/droidgram/input/nerd.tuxmobil.fahrplan.congress/inputs07.txt\n",
      "/Users/nataniel/Documents/saarland/repositories/test/droidgram/input/nerd.tuxmobil.fahrplan.congress/inputs08.txt\n",
      "/Users/nataniel/Documents/saarland/repositories/test/droidgram/input/nerd.tuxmobil.fahrplan.congress/inputs09.txt\n",
      "/Users/nataniel/Documents/saarland/repositories/test/droidgram/input/nerd.tuxmobil.fahrplan.congress/inputs10.txt\n"
     ]
    }
   ],
   "source": [
    "generate_experiments_inputs(\"nerd.tuxmobil.fahrplan.congress\")"
   ]
  },
  {
   "cell_type": "markdown",
   "metadata": {},
   "source": [
    "# org.berlin_vegan.bvapp"
   ]
  },
  {
   "cell_type": "code",
   "execution_count": 52,
   "metadata": {},
   "outputs": [
    {
     "name": "stdout",
     "output_type": "stream",
     "text": [
      "/Users/nataniel/Documents/saarland/repositories/test/droidgram/input/org.berlin_vegan.bvapp/inputs00.txt\n",
      "/Users/nataniel/Documents/saarland/repositories/test/droidgram/input/org.berlin_vegan.bvapp/inputs01.txt\n",
      "/Users/nataniel/Documents/saarland/repositories/test/droidgram/input/org.berlin_vegan.bvapp/inputs02.txt\n",
      "/Users/nataniel/Documents/saarland/repositories/test/droidgram/input/org.berlin_vegan.bvapp/inputs03.txt\n",
      "/Users/nataniel/Documents/saarland/repositories/test/droidgram/input/org.berlin_vegan.bvapp/inputs04.txt\n",
      "/Users/nataniel/Documents/saarland/repositories/test/droidgram/input/org.berlin_vegan.bvapp/inputs05.txt\n",
      "/Users/nataniel/Documents/saarland/repositories/test/droidgram/input/org.berlin_vegan.bvapp/inputs06.txt\n",
      "/Users/nataniel/Documents/saarland/repositories/test/droidgram/input/org.berlin_vegan.bvapp/inputs07.txt\n",
      "/Users/nataniel/Documents/saarland/repositories/test/droidgram/input/org.berlin_vegan.bvapp/inputs08.txt\n",
      "/Users/nataniel/Documents/saarland/repositories/test/droidgram/input/org.berlin_vegan.bvapp/inputs09.txt\n",
      "/Users/nataniel/Documents/saarland/repositories/test/droidgram/input/org.berlin_vegan.bvapp/inputs10.txt\n"
     ]
    }
   ],
   "source": [
    "generate_experiments_inputs(\"org.berlin_vegan.bvapp\")"
   ]
  },
  {
   "cell_type": "markdown",
   "metadata": {},
   "source": [
    "# de.arnefeil.bewegungsmelder"
   ]
  },
  {
   "cell_type": "code",
   "execution_count": 53,
   "metadata": {},
   "outputs": [
    {
     "name": "stdout",
     "output_type": "stream",
     "text": [
      "/Users/nataniel/Documents/saarland/repositories/test/droidgram/input/de.arnefeil.bewegungsmelder/inputs00.txt\n",
      "/Users/nataniel/Documents/saarland/repositories/test/droidgram/input/de.arnefeil.bewegungsmelder/inputs01.txt\n",
      "/Users/nataniel/Documents/saarland/repositories/test/droidgram/input/de.arnefeil.bewegungsmelder/inputs02.txt\n",
      "/Users/nataniel/Documents/saarland/repositories/test/droidgram/input/de.arnefeil.bewegungsmelder/inputs03.txt\n",
      "/Users/nataniel/Documents/saarland/repositories/test/droidgram/input/de.arnefeil.bewegungsmelder/inputs04.txt\n",
      "/Users/nataniel/Documents/saarland/repositories/test/droidgram/input/de.arnefeil.bewegungsmelder/inputs05.txt\n",
      "/Users/nataniel/Documents/saarland/repositories/test/droidgram/input/de.arnefeil.bewegungsmelder/inputs06.txt\n",
      "/Users/nataniel/Documents/saarland/repositories/test/droidgram/input/de.arnefeil.bewegungsmelder/inputs07.txt\n",
      "/Users/nataniel/Documents/saarland/repositories/test/droidgram/input/de.arnefeil.bewegungsmelder/inputs08.txt\n",
      "/Users/nataniel/Documents/saarland/repositories/test/droidgram/input/de.arnefeil.bewegungsmelder/inputs09.txt\n",
      "/Users/nataniel/Documents/saarland/repositories/test/droidgram/input/de.arnefeil.bewegungsmelder/inputs10.txt\n"
     ]
    }
   ],
   "source": [
    "generate_experiments_inputs(\"de.arnefeil.bewegungsmelder\")"
   ]
  },
  {
   "cell_type": "markdown",
   "metadata": {},
   "source": [
    "# nerd.tuxmobil.fahrplan.camp"
   ]
  },
  {
   "cell_type": "code",
   "execution_count": 54,
   "metadata": {},
   "outputs": [
    {
     "name": "stdout",
     "output_type": "stream",
     "text": [
      "/Users/nataniel/Documents/saarland/repositories/test/droidgram/input/nerd.tuxmobil.fahrplan.camp/inputs00.txt\n",
      "/Users/nataniel/Documents/saarland/repositories/test/droidgram/input/nerd.tuxmobil.fahrplan.camp/inputs01.txt\n",
      "/Users/nataniel/Documents/saarland/repositories/test/droidgram/input/nerd.tuxmobil.fahrplan.camp/inputs02.txt\n",
      "/Users/nataniel/Documents/saarland/repositories/test/droidgram/input/nerd.tuxmobil.fahrplan.camp/inputs03.txt\n",
      "/Users/nataniel/Documents/saarland/repositories/test/droidgram/input/nerd.tuxmobil.fahrplan.camp/inputs04.txt\n",
      "/Users/nataniel/Documents/saarland/repositories/test/droidgram/input/nerd.tuxmobil.fahrplan.camp/inputs05.txt\n",
      "/Users/nataniel/Documents/saarland/repositories/test/droidgram/input/nerd.tuxmobil.fahrplan.camp/inputs06.txt\n",
      "/Users/nataniel/Documents/saarland/repositories/test/droidgram/input/nerd.tuxmobil.fahrplan.camp/inputs07.txt\n",
      "/Users/nataniel/Documents/saarland/repositories/test/droidgram/input/nerd.tuxmobil.fahrplan.camp/inputs08.txt\n",
      "/Users/nataniel/Documents/saarland/repositories/test/droidgram/input/nerd.tuxmobil.fahrplan.camp/inputs09.txt\n",
      "/Users/nataniel/Documents/saarland/repositories/test/droidgram/input/nerd.tuxmobil.fahrplan.camp/inputs10.txt\n"
     ]
    }
   ],
   "source": [
    "generate_experiments_inputs(\"nerd.tuxmobil.fahrplan.camp\")"
   ]
  },
  {
   "cell_type": "markdown",
   "metadata": {},
   "source": [
    "# org.notabug.lifeuser.moviedb"
   ]
  },
  {
   "cell_type": "code",
   "execution_count": 55,
   "metadata": {},
   "outputs": [
    {
     "name": "stdout",
     "output_type": "stream",
     "text": [
      "/Users/nataniel/Documents/saarland/repositories/test/droidgram/input/org.notabug.lifeuser.moviedb/inputs00.txt\n",
      "/Users/nataniel/Documents/saarland/repositories/test/droidgram/input/org.notabug.lifeuser.moviedb/inputs01.txt\n",
      "/Users/nataniel/Documents/saarland/repositories/test/droidgram/input/org.notabug.lifeuser.moviedb/inputs02.txt\n",
      "/Users/nataniel/Documents/saarland/repositories/test/droidgram/input/org.notabug.lifeuser.moviedb/inputs03.txt\n",
      "/Users/nataniel/Documents/saarland/repositories/test/droidgram/input/org.notabug.lifeuser.moviedb/inputs04.txt\n",
      "/Users/nataniel/Documents/saarland/repositories/test/droidgram/input/org.notabug.lifeuser.moviedb/inputs05.txt\n",
      "/Users/nataniel/Documents/saarland/repositories/test/droidgram/input/org.notabug.lifeuser.moviedb/inputs06.txt\n",
      "/Users/nataniel/Documents/saarland/repositories/test/droidgram/input/org.notabug.lifeuser.moviedb/inputs07.txt\n",
      "/Users/nataniel/Documents/saarland/repositories/test/droidgram/input/org.notabug.lifeuser.moviedb/inputs08.txt\n",
      "/Users/nataniel/Documents/saarland/repositories/test/droidgram/input/org.notabug.lifeuser.moviedb/inputs09.txt\n",
      "/Users/nataniel/Documents/saarland/repositories/test/droidgram/input/org.notabug.lifeuser.moviedb/inputs10.txt\n"
     ]
    }
   ],
   "source": [
    "generate_experiments_inputs(\"org.notabug.lifeuser.moviedb\")"
   ]
  },
  {
   "cell_type": "markdown",
   "metadata": {},
   "source": [
    "# ar.com.fennoma.psicotest"
   ]
  },
  {
   "cell_type": "code",
   "execution_count": 56,
   "metadata": {},
   "outputs": [],
   "source": [
    "#generate_experiments_inputs(test_grammar, \"ar.com.fennoma.psicotest\")"
   ]
  },
  {
   "cell_type": "code",
   "execution_count": null,
   "metadata": {},
   "outputs": [],
   "source": [
    ""
   ]
  }
 ],
 "metadata": {
  "kernelspec": {
   "display_name": "Python 3",
   "language": "python",
   "name": "python3"
  },
  "language_info": {
   "codemirror_mode": {
    "name": "ipython",
    "version": 3.0
   },
   "file_extension": ".py",
   "mimetype": "text/x-python",
   "name": "python",
   "nbconvert_exporter": "python",
   "pygments_lexer": "ipython3",
   "version": "3.6.5"
  },
  "toc": {
   "base_numbering": 1.0,
   "nav_menu": {},
   "number_sections": true,
   "sideBar": true,
   "skip_h1_title": false,
   "title_cell": "Table of Contents",
   "title_sidebar": "Contents",
   "toc_cell": false,
   "toc_position": {},
   "toc_section_display": true,
   "toc_window_display": false
  },
  "varInspector": {
   "cols": {
    "lenName": 16.0,
    "lenType": 16.0,
    "lenVar": 40.0
   },
   "kernels_config": {
    "python": {
     "delete_cmd_postfix": "",
     "delete_cmd_prefix": "del ",
     "library": "var_list.py",
     "varRefreshCmd": "print(var_dic_list())"
    },
    "r": {
     "delete_cmd_postfix": ") ",
     "delete_cmd_prefix": "rm(",
     "library": "var_list.r",
     "varRefreshCmd": "cat(var_dic_list()) "
    }
   },
   "types_to_exclude": [
    "module",
    "function",
    "builtin_function_or_method",
    "instance",
    "_Feature"
   ],
   "window_display": false
  }
 },
 "nbformat": 4,
 "nbformat_minor": 0
}