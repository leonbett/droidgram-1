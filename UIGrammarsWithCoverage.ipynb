{
 "cells": [
  {
   "cell_type": "code",
   "execution_count": 1,
   "metadata": {},
   "outputs": [],
   "source": [
    "import fuzzingbook_utils"
   ]
  },
  {
   "cell_type": "markdown",
   "metadata": {},
   "source": [
    "# Guiging GUI Testing with Mined UI Grammars\n",
    "\n",
    "__GOAL:__ Mine a single grammar containing UI Elements, UI States, UI Interactions and Statement Coverage. Consume this grammar to efficiently generate tests."
   ]
  },
  {
   "cell_type": "markdown",
   "metadata": {},
   "source": [
    "## Roadmap\n",
    "\n",
    "1. __DONE__ Explore an app using DroidMate _(maybe mutiple times?)_.\n",
    "2. __ONGOING__ Extract a UI grammar containing only the UI elements which DM interacted with (Kotlin).\n",
    "3. __DONE__ Use the fuzzingbook's GrammarCoverageFuzzer to consume the Grammar and generate input values (Python).\n",
    "4. __DONE__ Extend the funzzingbook's grammar coverage tracking to consider both terminals and non-terminals (Python). \n",
    "5. _PENDING_ Associate the grammar elements with _covered statements_ (Kotlin).\n",
    "6. _PENDING_ Consume expanded grammar to generatetests targeted to specific code locations (Kotlin).\n",
    "7. _DONE_ Generate inputs to cover all grammar elements\n",
    "8. _PENDING_ Generate inputs to cover all previously covered statements\n",
    "9. _PENDING_ Generate inputs to cover specific statements"
   ]
  },
  {
   "cell_type": "markdown",
   "metadata": {},
   "source": [
    "## Grammar definition:\n",
    "\n",
    "The grammar contains two types of productions _<state>_ and _<transition>_, where:\n",
    "\n",
    "### State (Non-Terminal <sX\\>)\n",
    "\n",
    "Represents a UI state. It contains all _UI elements_ which can be interacted with on the state, alongside their transitions. \n",
    "It is defined as \n",
    "\n",
    "```\n",
    "<sX> ::= w1<t1>, ..., wN<tN>\n",
    "```\n",
    "\n",
    "Where:\n",
    "* wX is a widget\n",
    "* <tX\\> is a transition\n",
    "\n",
    "### Transition (Non-Terminal <tX\\>)\n",
    "\n",
    "Represents a UI state transition trigger by a UI element interaction. \n",
    "\n",
    "By design, is always associated to a UI element, but could be theoretically generalized for system events.\n",
    "It is defined as\n",
    "\n",
    "```\n",
    "  <tX> ::= <s1>, ..., <sN>\n",
    "```\n",
    "\n",
    "Where _<sX\\>_ is a state. \n",
    "A transition contains only UI state productions. \n",
    "It also contains _all UI states_ which can be reached by this transition.\n",
    "\n",
    "### Widget/UI Element (Terminal wX)\n",
    "\n",
    "A UI element represents a UI element interaction in the app. It is defined as \n",
    "\n",
    "```\n",
    "wX ≡ widgetX.actionY[.dataZ]\n",
    "```\n",
    "\n",
    "Where:\n",
    "* _widgetX_ is the unique UI element ID\n",
    "* _actionY_ is the type of action performed\n",
    "* _dataZ_ is the value used in the action, such as text input, if any. This parameter is optional.\n",
    "\n",
    "This notation can simultaneously encode:\n",
    "* UI elements\n",
    "* Different action types on the same UI elements (click, long click, tick, etc, input text)\n",
    "* Different input payloads (searched value)\n",
    "\n",
    "### Terminate condition\n",
    "\n",
    "An exploration can be over at any time. Thus, all _State_ productions can also be $\\epsilon$.\n",
    "\n"
   ]
  },
  {
   "cell_type": "markdown",
   "metadata": {},
   "source": [
    "# Concrete Example\n",
    "\n",
    "## Notation\n",
    "\n",
    "* State: Sequential numbering\n",
    "* Widget: Sequential numbering (later mapped to UID)\n",
    "* Action types: Click and Long Click\n",
    "* Transition: <state.widget>. \n",
    "For example `s6.w7.Click` stands for: the widget `w7.Click` in the state `s6`.\n",
    "This allows the same widget and interaction to have different transitions in different states.\n",
    "\n",
    "\n",
    "## Grammar"
   ]
  },
  {
   "cell_type": "code",
   "execution_count": 2,
   "metadata": {},
   "outputs": [],
   "source": [
    "simple_ui_grammar = {\n",
    "'<empty>'             : \t\t[''],\n",
    "'<s1.w0.Click>'       : \t\t['<empty>', '<s2>'],\n",
    "'<s1>'                : \t\t['w0.Click <s1.w0.Click>'],\n",
    "'<s2.w1.Click>'       : \t\t['<empty>', '<s3>'],\n",
    "'<s2.w3.Click>'       : \t\t['<empty>', '<s4>'],\n",
    "'<s2>'                : \t\t['w1.Click <s2.w1.Click>', 'w3.Click <s2.w3.Click>'],\n",
    "'<s3.w2.Click>'       : \t\t['<empty>', '<s2>'],\n",
    "'<s3>'                : \t\t['w2.Click <s3.w2.Click>'],\n",
    "'<s4.w4.Click>'       : \t\t['<empty>', '<s4>'],\n",
    "'<s4.w5.LongClick>'   : \t\t['<empty>', '<s5>'],\n",
    "'<s4>'                : \t\t['w4.Click <s4.w4.Click>', 'w5.LongClick <s4.w5.LongClick>'],\n",
    "'<s5.w6.Click>'       : \t\t['<empty>', '<s6>'],\n",
    "'<s5>'                : \t\t['w6.Click <s5.w6.Click>'],\n",
    "'<s6.w7.Click>'       : \t\t['<empty>', '<s6>'],\n",
    "'<s6.w8.Click>'       : \t\t['<empty>', '<s6>'],\n",
    "'<s6>'                : \t\t['w7.Click <s6.w7.Click>', 'w8.Click <s6.w8.Click>'],\n",
    "'<start>'             : \t\t['<empty>', '<s1>']\n",
    "}"
   ]
  },
  {
   "cell_type": "markdown",
   "metadata": {},
   "source": [
    "# Fuzzing\n",
    "\n",
    "## Using expansion coverage\n",
    "\n",
    "With fuzzingbook's default implementation"
   ]
  },
  {
   "cell_type": "code",
   "execution_count": 3,
   "metadata": {},
   "outputs": [],
   "source": [
    "from GrammarCoverageFuzzer import GrammarCoverageFuzzer"
   ]
  },
  {
   "cell_type": "code",
   "execution_count": 18,
   "metadata": {},
   "outputs": [
    {
     "name": "stdout",
     "output_type": "stream",
     "text": [
      "w0.Click \n",
      "\n",
      "w0.Click w3.Click w5.LongClick \n",
      "w0.Click w1.Click w2.Click \n",
      "w0.Click w1.Click \n",
      "w0.Click w3.Click \n",
      "w0.Click w3.Click w4.Click w5.LongClick w6.Click \n",
      "w0.Click w3.Click w4.Click \n",
      "w0.Click w1.Click w2.Click w3.Click w5.LongClick w6.Click w8.Click \n",
      "w0.Click w3.Click w5.LongClick w6.Click w7.Click \n",
      "w0.Click w3.Click w5.LongClick w6.Click w8.Click w7.Click w7.Click w8.Click \n"
     ]
    }
   ],
   "source": [
    "fuzzer = GrammarCoverageFuzzer(simple_ui_grammar, min_nonterminals=1)\n",
    "max_exp = fuzzer.max_expansion_coverage(max_depth=len(simple_ui_grammar))\n",
    "while len(max_exp - fuzzer.expansion_coverage()) > 0:\n",
    "    print(fuzzer.fuzz())"
   ]
  },
  {
   "cell_type": "markdown",
   "metadata": {},
   "source": [
    "## Using Term Coverage (Terminals and non-Terminals)\n",
    "\n",
    "Extension of fuzzingbook's implementation.\n",
    "\n",
    "Greedy algorithm."
   ]
  },
  {
   "cell_type": "code",
   "execution_count": 5,
   "metadata": {},
   "outputs": [],
   "source": [
    "import re\n",
    "from Grammars import START_SYMBOL, RE_NONTERMINAL, nonterminals\n",
    "from GrammarCoverageFuzzer import GrammarCoverageFuzzer"
   ]
  },
  {
   "cell_type": "markdown",
   "metadata": {},
   "source": [
    "### Extended Coverage measurement\n",
    "\n",
    "Number of times each symbol has been seem (necessary as all states can finish with $\\epsilon$)"
   ]
  },
  {
   "cell_type": "code",
   "execution_count": 6,
   "metadata": {},
   "outputs": [],
   "source": [
    "class TerminalCoverageGrammar(GrammarCoverageFuzzer):\n",
    "    def add_coverage(self, symbol, new_children):\n",
    "        \"\"\"Coverage computation: number of times each symbol has been seen\"\"\"\n",
    "        if self.log and symbol not in self.covered_expansions.keys():\n",
    "            print(\"Now covered:\", symbol)\n",
    "\n",
    "        if symbol not in self.covered_expansions.keys():\n",
    "            self.covered_expansions[symbol] = 0\n",
    "\n",
    "        curr_val = self.covered_expansions[symbol]\n",
    "        self.covered_expansions[symbol] = curr_val + 1\n",
    "    def reset_coverage(self):\n",
    "        self.covered_expansions = dict()\n",
    "\n",
    "    def expansion_coverage(self):\n",
    "        return self.covered_expansions.keys()"
   ]
  },
  {
   "cell_type": "markdown",
   "metadata": {},
   "source": [
    "### Obtain set of existing symbols\n",
    "\n",
    "Compute all existing symbols (terminals and non terminals) in the grammar:"
   ]
  },
  {
   "cell_type": "code",
   "execution_count": 7,
   "metadata": {},
   "outputs": [],
   "source": [
    "class TerminalCoverageGrammar(TerminalCoverageGrammar):\n",
    "    def all_symbols_grammar(self):\n",
    "        symbols = { START_SYMBOL }\n",
    "\n",
    "        for symbol in self.grammar.keys():\n",
    "            for expansion in self.grammar[symbol]:\n",
    "                for expansion_segment in list(filter(lambda x: x != \"\", re.split(RE_NONTERMINAL, expansion))):\n",
    "                    symbols.add(expansion_segment)\n",
    "\n",
    "        return symbols\n"
   ]
  },
  {
   "cell_type": "markdown",
   "metadata": {},
   "source": [
    "### Redefine non-covered elements\n",
    "\n",
    "Expansions with non-covered elements must use the new data type:"
   ]
  },
  {
   "cell_type": "code",
   "execution_count": 8,
   "metadata": {},
   "outputs": [],
   "source": [
    "class TerminalCoverageGrammar(TerminalCoverageGrammar):\n",
    "    def _uncovered_children(self, possible_children):\n",
    "        # Prefer uncovered expansions\n",
    "        uncovered_children = []\n",
    "        index_map = []\n",
    "        for idx, child_list in enumerate(possible_children):\n",
    "            for child_tuple in child_list:\n",
    "                (child, grand_child) = child_tuple\n",
    "                if child not in self.expansion_coverage() and child_list not in uncovered_children:\n",
    "                    uncovered_children.append(child_list)\n",
    "                    index_map.append(idx)\n",
    "\n",
    "        return index_map, uncovered_children"
   ]
  },
  {
   "cell_type": "markdown",
   "metadata": {},
   "source": [
    "### Determine minimally covered elements\n",
    "\n",
    "The same UI elements may be available in multiple states. Thus we should prioretize elements which have been seen the least when all elements have already been covered."
   ]
  },
  {
   "cell_type": "code",
   "execution_count": 9,
   "metadata": {},
   "outputs": [],
   "source": [
    "class TerminalCoverageGrammar(TerminalCoverageGrammar):\n",
    "    def _minimally_expanded(self, possible_children):\n",
    "        symbol_count = dict()\n",
    "        for idx, child_list in enumerate(possible_children):\n",
    "            for child_tuple in child_list:\n",
    "                (child, grand_child) = child_tuple\n",
    "\n",
    "                assert(child in self.covered_expansions.keys())\n",
    "                symbol_count[child] = self.covered_expansions[child]\n",
    "\n",
    "        min_count = min(symbol_count.values())\n",
    "\n",
    "        # Prefer least covered expansions\n",
    "        uncovered_children = []\n",
    "        index_map = []\n",
    "        for idx, child_list in enumerate(possible_children):\n",
    "            for child_tuple in child_list:\n",
    "                (child, grand_child) = child_tuple\n",
    "                if symbol_count[child] == min_count and child_list not in uncovered_children:\n",
    "                    uncovered_children.append(child_list)\n",
    "                    index_map.append(idx)\n",
    "\n",
    "        return index_map, uncovered_children"
   ]
  },
  {
   "cell_type": "markdown",
   "metadata": {},
   "source": [
    "### Add terminals to coverage\n",
    "\n",
    "Add terminals to the list of covered grammar elements"
   ]
  },
  {
   "cell_type": "code",
   "execution_count": 10,
   "metadata": {},
   "outputs": [],
   "source": [
    "class TerminalCoverageGrammar(TerminalCoverageGrammar):\n",
    "    def process_chosen_children(self, chosen_children, expansion):\n",
    "        \"\"\"Add terminals to coverage.\"\"\"\n",
    "        for expansion_segment in list(filter(lambda x: x != \"\", re.split(RE_NONTERMINAL, expansion))):\n",
    "            if expansion_segment not in nonterminals(expansion):\n",
    "                self.add_coverage(expansion_segment, chosen_children)\n",
    "        return chosen_children\n"
   ]
  },
  {
   "cell_type": "markdown",
   "metadata": {},
   "source": [
    "### Choose node expansion\n",
    "\n",
    "Update node expansion rules to guide expansion towards least explored elements"
   ]
  },
  {
   "cell_type": "code",
   "execution_count": 11,
   "metadata": {},
   "outputs": [],
   "source": [
    "class TerminalCoverageGrammar(TerminalCoverageGrammar):\n",
    "    def choose_node_expansion(self, node, possible_children):\n",
    "        index_map, uncovered_children = self._uncovered_children(possible_children)\n",
    "\n",
    "        if len(uncovered_children) == 0:\n",
    "            # Search for least explored\n",
    "            index_map, min_covered_children = self._minimally_expanded(possible_children)\n",
    "            # All expansions covered the same amount of times - use superclass method\n",
    "            index = self.choose_covered_node_expansion(node, min_covered_children)\n",
    "\n",
    "            return index_map[index]\n",
    "\n",
    "        # Select from uncovered nodes\n",
    "        index = self.choose_uncovered_node_expansion(node, uncovered_children)\n",
    "\n",
    "        return index_map[index]"
   ]
  },
  {
   "cell_type": "markdown",
   "metadata": {},
   "source": [
    "### Running the Fuzzer"
   ]
  },
  {
   "cell_type": "code",
   "execution_count": 15,
   "metadata": {},
   "outputs": [
    {
     "name": "stdout",
     "output_type": "stream",
     "text": [
      "w0.Click \n",
      "w0.Click w1.Click w2.Click w3.Click w4.Click w5.LongClick w6.Click w8.Click w7.Click \n"
     ]
    }
   ],
   "source": [
    "fuzzer = TerminalCoverageGrammar(simple_ui_grammar, min_nonterminals=1, log=False)\n",
    "max_exp = fuzzer.all_symbols_grammar()\n",
    "while len(max_exp - fuzzer.expansion_coverage()) > 0:\n",
    "    print(fuzzer.fuzz())"
   ]
  },
  {
   "cell_type": "code",
   "execution_count": null,
   "metadata": {},
   "outputs": [],
   "source": []
  }
 ],
 "metadata": {
  "kernelspec": {
   "display_name": "Python 3",
   "language": "python",
   "name": "python3"
  },
  "language_info": {
   "codemirror_mode": {
    "name": "ipython",
    "version": 3
   },
   "file_extension": ".py",
   "mimetype": "text/x-python",
   "name": "python",
   "nbconvert_exporter": "python",
   "pygments_lexer": "ipython3",
   "version": "3.6.5"
  },
  "toc": {
   "base_numbering": 1,
   "nav_menu": {},
   "number_sections": true,
   "sideBar": true,
   "skip_h1_title": false,
   "title_cell": "Table of Contents",
   "title_sidebar": "Contents",
   "toc_cell": false,
   "toc_position": {},
   "toc_section_display": true,
   "toc_window_display": false
  },
  "varInspector": {
   "cols": {
    "lenName": 16,
    "lenType": 16,
    "lenVar": 40
   },
   "kernels_config": {
    "python": {
     "delete_cmd_postfix": "",
     "delete_cmd_prefix": "del ",
     "library": "var_list.py",
     "varRefreshCmd": "print(var_dic_list())"
    },
    "r": {
     "delete_cmd_postfix": ") ",
     "delete_cmd_prefix": "rm(",
     "library": "var_list.r",
     "varRefreshCmd": "cat(var_dic_list()) "
    }
   },
   "types_to_exclude": [
    "module",
    "function",
    "builtin_function_or_method",
    "instance",
    "_Feature"
   ],
   "window_display": false
  }
 },
 "nbformat": 4,
 "nbformat_minor": 2
}
