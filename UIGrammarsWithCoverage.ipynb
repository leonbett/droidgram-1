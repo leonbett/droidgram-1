{
 "cells": [
  {
   "cell_type": "code",
   "execution_count": 1,
   "metadata": {},
   "outputs": [],
   "source": [
    "import fuzzingbook_utils"
   ]
  },
  {
   "cell_type": "markdown",
   "metadata": {},
   "source": [
    "# Efficient Regression Testing with Mined UI Grammars\n",
    "\n",
    "__GOAL:__ Mine a single grammar containing UI Elements, UI States, UI Interactions and Statement Coverage. Consume this grammar to efficiently generate tests."
   ]
  },
  {
   "cell_type": "markdown",
   "metadata": {},
   "source": [
    "## Roadmap\n",
    "\n",
    "1. __DONE__ Explore an app using DroidMate _(maybe mutiple times?)_.\n",
    "2. __ONGOING__ Extract a UI grammar containing only the UI elements which DM interacted with (Kotlin).\n",
    "3. __DONE__ Use the fuzzingbook's GrammarCoverageFuzzer to consume the Grammar and generate input values (Python).\n",
    "4. __DONE__ Extend the funzzingbook's grammar coverage tracking to consider both terminals and non-terminals (Python). \n",
    "5. _PENDING_ Associate the grammar elements with _covered statements_ (Kotlin).\n",
    "6. _PENDING_ Consume expanded grammar to generatetests targeted to specific code locations (Kotlin).\n",
    "7. _DONE_ Generate inputs to cover all grammar elements\n",
    "8. _PENDING_ Generate inputs to cover all previously covered statements\n",
    "9. _PENDING_ Generate inputs to cover specific statements"
   ]
  },
  {
   "cell_type": "markdown",
   "metadata": {},
   "source": [
    "## Grammar definition:\n",
    "\n",
    "The grammar contains two types of productions _<state>_ and _<transition>_, where:\n",
    "\n",
    "### State (Non-Terminal <sX\\>)\n",
    "\n",
    "Represents a UI state. It contains all _UI elements_ which can be interacted with on the state, alongside their transitions. \n",
    "It is defined as \n",
    "\n",
    "```\n",
    "<sX> ::= w1<t1>, ..., wN<tN>\n",
    "```\n",
    "\n",
    "Where:\n",
    "* wX is a widget\n",
    "* <tX\\> is a transition\n",
    "\n",
    "### Transition (Non-Terminal <tX\\>)\n",
    "\n",
    "Represents a UI state transition trigger by a UI element interaction. \n",
    "\n",
    "By design, is always associated to a UI element, but could be theoretically generalized for system events.\n",
    "It is defined as\n",
    "\n",
    "```\n",
    "  <tX> ::= <s1>, ..., <sN>\n",
    "```\n",
    "\n",
    "Where _<sX\\>_ is a state. \n",
    "A transition contains only UI state productions. \n",
    "It also contains _all UI states_ which can be reached by this transition.\n",
    "\n",
    "### Widget/UI Element (Terminal wX)\n",
    "\n",
    "A UI element represents a UI element interaction in the app. It is defined as \n",
    "\n",
    "```\n",
    "wX ≡ widgetX.actionY[.dataZ]\n",
    "```\n",
    "\n",
    "Where:\n",
    "* _widgetX_ is the unique UI element ID\n",
    "* _actionY_ is the type of action performed\n",
    "* _dataZ_ is the value used in the action, such as text input, if any. This parameter is optional.\n",
    "\n",
    "This notation can simultaneously encode:\n",
    "* UI elements\n",
    "* Different action types on the same UI elements (click, long click, tick, etc, input text)\n",
    "* Different input payloads (searched value)\n",
    "\n",
    "### Terminate condition\n",
    "\n",
    "An exploration can be over at any time. Thus, all _State_ productions can also be $\\epsilon$.\n",
    "\n"
   ]
  },
  {
   "cell_type": "markdown",
   "metadata": {},
   "source": [
    "# Concrete Example\n",
    "\n",
    "## Notation\n",
    "\n",
    "* State: Sequential numbering\n",
    "* Widget: Sequential numbering (later mapped to UID)\n",
    "* Action types: Click and Long Click\n",
    "* Transition: <state.widget>. \n",
    "For example `s6.w7.Click` stands for: the widget `w7.Click` in the state `s6`.\n",
    "This allows the same widget and interaction to have different transitions in different states.\n",
    "\n",
    "\n",
    "## Grammar"
   ]
  },
  {
   "cell_type": "code",
   "execution_count": 2,
   "metadata": {},
   "outputs": [],
   "source": [
    "simple_ui_grammar = {\n",
    "'<empty>'             : \t\t[''],\n",
    "'<s1.w0.Click>'       : \t\t['<empty>', '<s2>'],\n",
    "'<s1>'                : \t\t['w0.Click <s1.w0.Click>'],\n",
    "'<s2.w1.Click>'       : \t\t['<empty>', '<s3>'],\n",
    "'<s2.w3.Click>'       : \t\t['<empty>', '<s4>'],\n",
    "'<s2>'                : \t\t['w1.Click <s2.w1.Click>', 'w3.Click <s2.w3.Click>'],\n",
    "'<s3.w2.Click>'       : \t\t['<empty>', '<s2>'],\n",
    "'<s3>'                : \t\t['w2.Click <s3.w2.Click>'],\n",
    "'<s4.w4.Click>'       : \t\t['<empty>', '<s4>'],\n",
    "'<s4.w5.LongClick>'   : \t\t['<empty>', '<s5>'],\n",
    "'<s4>'                : \t\t['w4.Click <s4.w4.Click>', 'w5.LongClick <s4.w5.LongClick>'],\n",
    "'<s5.w6.Click>'       : \t\t['<empty>', '<s6>'],\n",
    "'<s5>'                : \t\t['w6.Click <s5.w6.Click>'],\n",
    "'<s6.w7.Click>'       : \t\t['<empty>', '<s6>'],\n",
    "'<s6.w8.Click>'       : \t\t['<empty>', '<s6>'],\n",
    "'<s6>'                : \t\t['w7.Click <s6.w7.Click>', 'w8.Click <s6.w8.Click>'],\n",
    "'<start>'             : \t\t['<empty>', '<s1>']\n",
    "}"
   ]
  },
  {
   "cell_type": "markdown",
   "metadata": {},
   "source": [
    "# Fuzzing\n",
    "\n",
    "## Using expansion coverage\n",
    "\n",
    "With fuzzingbook's default implementation"
   ]
  },
  {
   "cell_type": "code",
   "execution_count": 3,
   "metadata": {},
   "outputs": [],
   "source": [
    "from GrammarCoverageFuzzer import GrammarCoverageFuzzer"
   ]
  },
  {
   "cell_type": "code",
   "execution_count": 4,
   "metadata": {},
   "outputs": [
    {
     "name": "stdout",
     "output_type": "stream",
     "text": [
      "\n",
      "w0.Click w1.Click w2.Click \n",
      "w0.Click \n",
      "w0.Click w3.Click \n",
      "w0.Click w3.Click w4.Click \n",
      "w0.Click w1.Click \n",
      "w0.Click w3.Click w5.LongClick \n",
      "w0.Click w3.Click w5.LongClick w6.Click w8.Click \n",
      "w0.Click w3.Click w4.Click w5.LongClick w6.Click \n",
      "w0.Click w1.Click w2.Click w3.Click w5.LongClick w6.Click w7.Click \n",
      "w0.Click w3.Click w5.LongClick w6.Click w7.Click w8.Click w8.Click w7.Click \n"
     ]
    }
   ],
   "source": [
    "fuzzer = GrammarCoverageFuzzer(simple_ui_grammar, min_nonterminals=1)\n",
    "max_exp = fuzzer.max_expansion_coverage(max_depth=len(simple_ui_grammar))\n",
    "while len(max_exp - fuzzer.expansion_coverage()) > 0:\n",
    "    print(fuzzer.fuzz())"
   ]
  },
  {
   "cell_type": "markdown",
   "metadata": {},
   "source": [
    "## Using Term Coverage (Terminals and non-Terminals)\n",
    "\n",
    "Extension of fuzzingbook's implementation.\n",
    "\n",
    "Greedy algorithm."
   ]
  },
  {
   "cell_type": "code",
   "execution_count": 5,
   "metadata": {},
   "outputs": [],
   "source": [
    "import re\n",
    "from Grammars import START_SYMBOL, RE_NONTERMINAL, nonterminals\n",
    "from GrammarCoverageFuzzer import GrammarCoverageFuzzer"
   ]
  },
  {
   "cell_type": "markdown",
   "metadata": {},
   "source": [
    "### Extended Coverage measurement\n",
    "\n",
    "Number of times each symbol has been seem (necessary as all states can finish with $\\epsilon$)"
   ]
  },
  {
   "cell_type": "code",
   "execution_count": 6,
   "metadata": {},
   "outputs": [],
   "source": [
    "class TerminalCoverageGrammar(GrammarCoverageFuzzer):\n",
    "    def add_coverage(self, symbol, new_children):\n",
    "        \"\"\"Coverage computation: number of times each symbol has been seen\"\"\"\n",
    "        if self.log and symbol not in self.covered_expansions.keys():\n",
    "            print(\"Now covered:\", symbol)\n",
    "\n",
    "        if symbol not in self.covered_expansions.keys():\n",
    "            self.covered_expansions[symbol] = 0\n",
    "\n",
    "        curr_val = self.covered_expansions[symbol]\n",
    "        self.covered_expansions[symbol] = curr_val + 1\n",
    "    def reset_coverage(self):\n",
    "        self.covered_expansions = dict()\n",
    "\n",
    "    def expansion_coverage(self):\n",
    "        return self.covered_expansions.keys()"
   ]
  },
  {
   "cell_type": "markdown",
   "metadata": {},
   "source": [
    "### Obtain set of existing symbols\n",
    "\n",
    "Compute all existing symbols (terminals and non terminals) in the grammar:"
   ]
  },
  {
   "cell_type": "code",
   "execution_count": 7,
   "metadata": {},
   "outputs": [],
   "source": [
    "class TerminalCoverageGrammar(TerminalCoverageGrammar):\n",
    "    def all_symbols_grammar(self):\n",
    "        symbols = { START_SYMBOL }\n",
    "\n",
    "        for symbol in self.grammar.keys():\n",
    "            for expansion in self.grammar[symbol]:\n",
    "                for expansion_segment in list(filter(lambda x: x != \"\", re.split(RE_NONTERMINAL, expansion))):\n",
    "                    symbols.add(expansion_segment)\n",
    "\n",
    "        return symbols\n"
   ]
  },
  {
   "cell_type": "markdown",
   "metadata": {},
   "source": [
    "### Redefine non-covered elements\n",
    "\n",
    "Expansions with non-covered elements must use the new data type:"
   ]
  },
  {
   "cell_type": "code",
   "execution_count": 8,
   "metadata": {},
   "outputs": [],
   "source": [
    "class TerminalCoverageGrammar(TerminalCoverageGrammar):\n",
    "    def _uncovered_children(self, possible_children):\n",
    "        # Prefer uncovered expansions\n",
    "        uncovered_children = []\n",
    "        index_map = []\n",
    "        for idx, child_list in enumerate(possible_children):\n",
    "            for child_tuple in child_list:\n",
    "                (child, grand_child) = child_tuple\n",
    "                if child not in self.expansion_coverage() and child_list not in uncovered_children:\n",
    "                    uncovered_children.append(child_list)\n",
    "                    index_map.append(idx)\n",
    "\n",
    "        return index_map, uncovered_children"
   ]
  },
  {
   "cell_type": "markdown",
   "metadata": {},
   "source": [
    "### Determine minimally covered elements\n",
    "\n",
    "The same UI elements may be available in multiple states. Thus we should prioretize elements which have been seen the least when all elements have already been covered."
   ]
  },
  {
   "cell_type": "code",
   "execution_count": 9,
   "metadata": {},
   "outputs": [],
   "source": [
    "class TerminalCoverageGrammar(TerminalCoverageGrammar):\n",
    "    def _minimally_expanded(self, possible_children):\n",
    "        symbol_count = dict()\n",
    "        for idx, child_list in enumerate(possible_children):\n",
    "            for child_tuple in child_list:\n",
    "                (child, grand_child) = child_tuple\n",
    "\n",
    "                assert(child in self.covered_expansions.keys())\n",
    "                symbol_count[child] = self.covered_expansions[child]\n",
    "\n",
    "        min_count = min(symbol_count.values())\n",
    "\n",
    "        # Prefer least covered expansions\n",
    "        uncovered_children = []\n",
    "        index_map = []\n",
    "        for idx, child_list in enumerate(possible_children):\n",
    "            for child_tuple in child_list:\n",
    "                (child, grand_child) = child_tuple\n",
    "                if symbol_count[child] == min_count and child_list not in uncovered_children:\n",
    "                    uncovered_children.append(child_list)\n",
    "                    index_map.append(idx)\n",
    "\n",
    "        return index_map, uncovered_children"
   ]
  },
  {
   "cell_type": "markdown",
   "metadata": {},
   "source": [
    "### Add terminals to coverage\n",
    "\n",
    "Add terminals to the list of covered grammar elements"
   ]
  },
  {
   "cell_type": "code",
   "execution_count": 10,
   "metadata": {},
   "outputs": [],
   "source": [
    "class TerminalCoverageGrammar(TerminalCoverageGrammar):\n",
    "    def process_chosen_children(self, chosen_children, expansion):\n",
    "        \"\"\"Add terminals to coverage.\"\"\"\n",
    "        for expansion_segment in list(filter(lambda x: x != \"\", re.split(RE_NONTERMINAL, expansion))):\n",
    "            if expansion_segment not in nonterminals(expansion):\n",
    "                self.add_coverage(expansion_segment, chosen_children)\n",
    "        return chosen_children\n"
   ]
  },
  {
   "cell_type": "markdown",
   "metadata": {},
   "source": [
    "### Choose node expansion\n",
    "\n",
    "Update node expansion rules to guide expansion towards least explored elements"
   ]
  },
  {
   "cell_type": "code",
   "execution_count": 11,
   "metadata": {},
   "outputs": [],
   "source": [
    "class TerminalCoverageGrammar(TerminalCoverageGrammar):\n",
    "    def choose_node_expansion(self, node, possible_children):\n",
    "        index_map, uncovered_children = self._uncovered_children(possible_children)\n",
    "\n",
    "        if len(uncovered_children) == 0:\n",
    "            # Search for least explored\n",
    "            index_map, min_covered_children = self._minimally_expanded(possible_children)\n",
    "            # All expansions covered the same amount of times - use superclass method\n",
    "            index = self.choose_covered_node_expansion(node, min_covered_children)\n",
    "\n",
    "            return index_map[index]\n",
    "\n",
    "        # Select from uncovered nodes\n",
    "        index = self.choose_uncovered_node_expansion(node, uncovered_children)\n",
    "\n",
    "        return index_map[index]"
   ]
  },
  {
   "cell_type": "markdown",
   "metadata": {},
   "source": [
    "### Running the Fuzzer"
   ]
  },
  {
   "cell_type": "code",
   "execution_count": 12,
   "metadata": {},
   "outputs": [
    {
     "name": "stdout",
     "output_type": "stream",
     "text": [
      "w0.Click w1.Click \n",
      "\n",
      "w0.Click w3.Click w5.LongClick w6.Click w7.Click w8.Click w8.Click \n",
      "w0.Click w3.Click w4.Click w5.LongClick w6.Click \n",
      "w0.Click w1.Click w2.Click \n"
     ]
    }
   ],
   "source": [
    "fuzzer = TerminalCoverageGrammar(simple_ui_grammar, min_nonterminals=1, log=False)\n",
    "max_exp = fuzzer.all_symbols_grammar()\n",
    "while len(max_exp - fuzzer.expansion_coverage()) > 0:\n",
    "    print(fuzzer.fuzz())"
   ]
  },
  {
   "cell_type": "code",
   "execution_count": null,
   "metadata": {},
   "outputs": [],
   "source": []
  },
  {
   "cell_type": "markdown",
   "metadata": {},
   "source": [
    "# Larger example (XKCD - 20 Actions)"
   ]
  },
  {
   "cell_type": "code",
   "execution_count": 13,
   "metadata": {},
   "outputs": [],
   "source": [
    "xkcd_grammar = {\n",
    "'<empty>'             : \t\t[''],\n",
    "'<s01.w00.ClickEvent>' : \t\t['<empty>', '<s02>'],\n",
    "'<s01.w03.ClickEvent>' : \t\t['<empty>', '<s04>'],\n",
    "'<s01.w07.ClickEvent>' : \t\t['<empty>', '<s07>'],\n",
    "'<s01>'               : \t\t['w00.ClickEvent <s01.w00.ClickEvent>', 'w02.LongClickEvent <start>', 'w03.ClickEvent <s01.w03.ClickEvent>', 'w06.LongClickEvent <start>', 'w07.ClickEvent <s01.w07.ClickEvent>'],\n",
    "'<s02.w01.Tick>'      : \t\t['<empty>', '<s03>'],\n",
    "'<s02>'               : \t\t['w01.Tick <s02.w01.Tick>'],\n",
    "'<s03.PressBack>'     : \t\t['<empty>', '<s01>', '<s07>'],\n",
    "'<s03>'               : \t\t['<s03.PressBack>'],\n",
    "'<s04.w04.ClickEvent>' : \t\t['<empty>', '<s05>'],\n",
    "'<s04>'               : \t\t['w04.ClickEvent <s04.w04.ClickEvent>'],\n",
    "'<s05.w05.ClickEvent>' : \t\t['<empty>', '<s06>'],\n",
    "'<s05>'               : \t\t['w05.ClickEvent <s05.w05.ClickEvent>'],\n",
    "'<s06>'               : \t\t['<start>'],\n",
    "'<s07.w00.ClickEvent>' : \t\t['<empty>', '<s09>'],\n",
    "'<s07.w02.ClickEvent>' : \t\t['<empty>', '<s10>'],\n",
    "'<s07.w06.ClickEvent>' : \t\t['<empty>', '<s08>'],\n",
    "'<s07>'               : \t\t['<empty>', 'w00.ClickEvent <s07.w00.ClickEvent>', 'w02.ClickEvent <s07.w02.ClickEvent>', 'w03.LongClickEvent <s01.w07.ClickEvent>', 'w06.ClickEvent <s07.w06.ClickEvent>', 'w07.ClickEvent <s01.w07.ClickEvent>'],\n",
    "'<s08>'               : \t\t['w08.ClickEvent <s01.w07.ClickEvent>'],\n",
    "'<s09>'               : \t\t['w09.ClickEvent <s02.w01.Tick>'],\n",
    "'<s10>'               : \t\t['w10.Click <s01.w07.ClickEvent>'],\n",
    "'<start>'             : \t\t['<empty>', '<s01>']\n",
    "}"
   ]
  },
  {
   "cell_type": "code",
   "execution_count": 14,
   "metadata": {
    "scrolled": false
   },
   "outputs": [
    {
     "name": "stdout",
     "output_type": "stream",
     "text": [
      "\n",
      "w02.LongClickEvent \n",
      "w07.ClickEvent w00.ClickEvent w09.ClickEvent \n",
      "w00.ClickEvent w01.Tick w03.LongClickEvent w02.ClickEvent w10.Click w06.ClickEvent w08.ClickEvent w06.ClickEvent w08.ClickEvent \n",
      "w06.LongClickEvent \n",
      "w03.ClickEvent w04.ClickEvent w05.ClickEvent \n"
     ]
    }
   ],
   "source": [
    "fuzzer = TerminalCoverageGrammar(xkcd_grammar, min_nonterminals=1, log=False)\n",
    "max_exp = fuzzer.all_symbols_grammar()\n",
    "reached = set()\n",
    "while len(max_exp - fuzzer.expansion_coverage()) > 0:\n",
    "    inp = fuzzer.fuzz()\n",
    "    reached.add(inp)\n",
    "    \n",
    "for x in reached:\n",
    "    print(x)"
   ]
  },
  {
   "cell_type": "markdown",
   "metadata": {},
   "source": [
    "# Another Example (aMetro - 20 Actions)"
   ]
  },
  {
   "cell_type": "code",
   "execution_count": 15,
   "metadata": {},
   "outputs": [],
   "source": [
    "ametro_grammar = {\n",
    "    '<ClickEvent(s01.w00)>' : \t\t['<empty>', '<s02>'],\n",
    "    '<ClickEvent(s01.w03)>' : \t\t['<empty>', '<s03>'],\n",
    "    '<ClickEvent(s02.w08)>' : \t\t['<empty>', '<s05>'],\n",
    "    '<ClickEvent(s02.w12)>' : \t\t['<empty>', '<s07>'],\n",
    "    '<ClickEvent(s03.w04)>' : \t\t['<empty>', '<s04>'],\n",
    "    '<ClickEvent(s05.w09)>' : \t\t['<empty>', '<s06>'],\n",
    "    '<ClickEvent(s07.w13)>' : \t\t['<empty>', '<s08>'],\n",
    "    '<ClickEvent(s08.w14)>' : \t\t['<empty>', '<s09>'],\n",
    "    '<ClickEvent(s09.w15)>' : \t\t['<empty>', '<s10>'],\n",
    "    '<empty>'             : \t\t[''],\n",
    "    '<s01>'               : \t\t['ClickEvent(w00) <ClickEvent(s01.w00)>', 'ClickEvent(w03) <ClickEvent(s01.w03)>', 'LongClickEvent(w02) <start>'],\n",
    "    '<s02>'               : \t\t['ClickEvent(w01) <start>', 'ClickEvent(w08) <ClickEvent(s02.w08)>', 'ClickEvent(w12) <ClickEvent(s02.w12)>'],\n",
    "    '<s03>'               : \t\t['ClickEvent(w04) <ClickEvent(s03.w04)>', 'ClickEvent(w06) <start>', 'ClickEvent(w07) <ClickEvent(s01.w00)>'],\n",
    "    '<s04>'               : \t\t['ClickEvent(w01) <ClickEvent(s01.w03)>', 'LongClickEvent(w05) <ClickEvent(s03.w04)>'],\n",
    "    '<s05>'               : \t\t['ClickEvent(w09) <ClickEvent(s05.w09)>'],\n",
    "    '<s06>'               : \t\t['ClickEvent(w11) <ClickEvent(s01.w00)>', 'LongClickEvent(w10) <ClickEvent(s05.w09)>'],\n",
    "    '<s07>'               : \t\t['ClickEvent(w13) <ClickEvent(s07.w13)>'],\n",
    "    '<s08>'               : \t\t['ClickEvent(w14) <ClickEvent(s08.w14)>'],\n",
    "    '<s09>'               : \t\t['ClickEvent(w15) <ClickEvent(s09.w15)>'],\n",
    "    '<s10>'               : \t\t['<empty>', 'ClickEvent(w16) <ClickEvent(s09.w15)>'],\n",
    "    '<start>'             : \t\t['<empty>', '<s01>']\n",
    "}"
   ]
  },
  {
   "cell_type": "code",
   "execution_count": 16,
   "metadata": {},
   "outputs": [
    {
     "name": "stdout",
     "output_type": "stream",
     "text": [
      "\n",
      "LongClickEvent(w02) ClickEvent(w00) ClickEvent(w08) ClickEvent(w09) LongClickEvent(w10) ClickEvent(w11) ClickEvent(w12) ClickEvent(w13) ClickEvent(w14) ClickEvent(w15) ClickEvent(w16) ClickEvent(w16) ClickEvent(w16) ClickEvent(w16) ClickEvent(w16) \n",
      "ClickEvent(w03) ClickEvent(w07) ClickEvent(w12) ClickEvent(w13) ClickEvent(w14) ClickEvent(w15) ClickEvent(w16) ClickEvent(w16) \n",
      "ClickEvent(w00) ClickEvent(w08) ClickEvent(w09) ClickEvent(w11) ClickEvent(w08) ClickEvent(w09) LongClickEvent(w10) LongClickEvent(w10) ClickEvent(w11) ClickEvent(w01) ClickEvent(w03) ClickEvent(w04) LongClickEvent(w05) LongClickEvent(w05) LongClickEvent(w05) LongClickEvent(w05) ClickEvent(w01) ClickEvent(w07) ClickEvent(w12) ClickEvent(w13) ClickEvent(w14) ClickEvent(w15) ClickEvent(w16) ClickEvent(w16) ClickEvent(w16) ClickEvent(w16) \n",
      "ClickEvent(w03) ClickEvent(w06) \n",
      "ClickEvent(w03) \n",
      "LongClickEvent(w02) \n",
      "LongClickEvent(w02) ClickEvent(w00) ClickEvent(w01) \n",
      "ClickEvent(w00) ClickEvent(w01) \n"
     ]
    }
   ],
   "source": [
    "fuzzer = TerminalCoverageGrammar(ametro_grammar, min_nonterminals=1, log=False)\n",
    "max_exp = fuzzer.all_symbols_grammar()\n",
    "reached = set()\n",
    "while len(max_exp - fuzzer.expansion_coverage()) > 0:\n",
    "    inp = fuzzer.fuzz()\n",
    "    reached.add(inp)\n",
    "    \n",
    "for x in reached:\n",
    "    print(x)"
   ]
  },
  {
   "cell_type": "markdown",
   "metadata": {},
   "source": [
    "# aMetro - 100 actions"
   ]
  },
  {
   "cell_type": "code",
   "execution_count": 17,
   "metadata": {},
   "outputs": [],
   "source": [
    "test_grammar = {\n",
    "'<Click(s16.w27)>'    : \t\t['<empty>', '<s27>'],\n",
    "'<Click(s19.w27)>'    : \t\t['<empty>', '<s20>'],\n",
    "'<Click(s25.w27)>'    : \t\t['<empty>', '<s26>'],\n",
    "'<ClickEvent(s01.w00)>' : \t\t['<empty>', '<s02>', '<s16>'],\n",
    "'<ClickEvent(s01.w03)>' : \t\t['<empty>', '<s03>'],\n",
    "'<ClickEvent(s02.w08)>' : \t\t['<empty>', '<s05>'],\n",
    "'<ClickEvent(s02.w10)>' : \t\t['<empty>', '<s07>'],\n",
    "'<ClickEvent(s02.w12)>' : \t\t['<empty>', '<s07>', '<s13>'],\n",
    "'<ClickEvent(s03.w04)>' : \t\t['<empty>', '<s04>'],\n",
    "'<ClickEvent(s03.w07)>' : \t\t['<empty>', '<s02>'],\n",
    "'<ClickEvent(s04.w01)>' : \t\t['<empty>', '<s03>', '<s27>'],\n",
    "'<ClickEvent(s05.w09)>' : \t\t['<empty>', '<s06>'],\n",
    "'<ClickEvent(s07.w02)>' : \t\t['<empty>', '<s08>'],\n",
    "'<ClickEvent(s08.w13)>' : \t\t['<empty>', '<s09>'],\n",
    "'<ClickEvent(s09.w14)>' : \t\t['<empty>', '<s10>'],\n",
    "'<ClickEvent(s09.w16)>' : \t\t['<empty>', '<s11>'],\n",
    "'<ClickEvent(s11.w17)>' : \t\t['<empty>', '<s12>'],\n",
    "'<ClickEvent(s12.w18)>' : \t\t['<empty>', '<s13>'],\n",
    "'<ClickEvent(s12.w25)>' : \t\t['<empty>', '<s18>'],\n",
    "'<ClickEvent(s13.w19)>' : \t\t['<empty>', '<s14>'],\n",
    "'<ClickEvent(s13.w26)>' : \t\t['<empty>', '<s28>'],\n",
    "'<ClickEvent(s13.w35)>' : \t\t['<empty>', '<s23>'],\n",
    "'<ClickEvent(s14.w20)>' : \t\t['<empty>', '<s15>'],\n",
    "'<ClickEvent(s15.w21)>' : \t\t['<empty>', '<s00>'],\n",
    "'<ClickEvent(s18.w14)>' : \t\t['<empty>', '<s24>'],\n",
    "'<ClickEvent(s18.w26)>' : \t\t['<empty>', '<s19>'],\n",
    "'<ClickEvent(s21.w02)>' : \t\t['<empty>', '<s30>'],\n",
    "'<ClickEvent(s21.w03)>' : \t\t['<empty>', '<s22>', '<s27>'],\n",
    "'<ClickEvent(s21.w28)>' : \t\t['<empty>', '<s21>'],\n",
    "'<ClickEvent(s22.w30)>' : \t\t['<empty>', '<s22>'],\n",
    "'<ClickEvent(s24.w36)>' : \t\t['<empty>', '<s25>'],\n",
    "'<ClickEvent(s26.w11)>' : \t\t['<empty>', '<s16>'],\n",
    "'<ClickEvent(s28.w24)>' : \t\t['<empty>', '<s29>'],\n",
    "'<LongClickEvent(s16.w22)>' : \t\t['<empty>', '<s17>'],\n",
    "'<PressBack(s00)>'    : \t\t['<s01>'],\n",
    "'<PressBack(s20)>'    : \t\t['<s21>'],\n",
    "'<TextInsert(s30.w38,lixxdwxhjctsalrmgb)>' : \t\t['<empty>', '<s31>'],\n",
    "'<empty>'             : \t\t[''],\n",
    "'<s00>'               : \t\t['<PressBack(s00)>'],\n",
    "'<s01>'               : \t\t['ClickEvent(w00) <ClickEvent(s01.w00)>', 'ClickEvent(w03) <ClickEvent(s01.w03)>', 'LongClickEvent(w02) <start>'],\n",
    "'<s02>'               : \t\t['ClickEvent(w01) <start>', 'ClickEvent(w08) <ClickEvent(s02.w08)>', 'ClickEvent(w10) <ClickEvent(s02.w10)>', 'ClickEvent(w12) <ClickEvent(s02.w12)>', 'LongClickEvent(w02) <ClickEvent(s03.w07)>', 'LongClickEvent(w10) <ClickEvent(s03.w07)>'],\n",
    "'<s03>'               : \t\t['ClickEvent(w00) <ClickEvent(s03.w07)>', 'ClickEvent(w04) <ClickEvent(s03.w04)>', 'ClickEvent(w06) <start>', 'ClickEvent(w07) <ClickEvent(s03.w07)>'],\n",
    "'<s04>'               : \t\t['ClickEvent(w01) <ClickEvent(s04.w01)>', 'LongClickEvent(w05) <ClickEvent(s03.w04)>'],\n",
    "'<s05>'               : \t\t['ClickEvent(w09) <ClickEvent(s05.w09)>', 'ClickEvent(w34) <ClickEvent(s01.w00)>'],\n",
    "'<s06>'               : \t\t['ClickEvent(w11) <ClickEvent(s03.w07)>', 'ClickEvent(w12) <ClickEvent(s12.w18)>', 'LongClickEvent(w10) <ClickEvent(s05.w09)>', 'LongClickEvent(w23) <ClickEvent(s05.w09)>'],\n",
    "'<s07>'               : \t\t['ClickEvent(w01) <ClickEvent(s03.w07)>', 'ClickEvent(w02) <ClickEvent(s07.w02)>'],\n",
    "'<s08>'               : \t\t['ClickEvent(w13) <ClickEvent(s08.w13)>'],\n",
    "'<s09>'               : \t\t['ClickEvent(w14) <ClickEvent(s09.w14)>', 'ClickEvent(w16) <ClickEvent(s09.w16)>'],\n",
    "'<s10>'               : \t\t['ClickEvent(w15) <ClickEvent(s08.w13)>'],\n",
    "'<s11>'               : \t\t['ClickEvent(w17) <ClickEvent(s11.w17)>'],\n",
    "'<s12>'               : \t\t['ClickEvent(w18) <ClickEvent(s12.w18)>', 'ClickEvent(w25) <ClickEvent(s12.w25)>'],\n",
    "'<s13>'               : \t\t['ClickEvent(w19) <ClickEvent(s13.w19)>', 'ClickEvent(w24) <ClickEvent(s11.w17)>', 'ClickEvent(w26) <ClickEvent(s13.w26)>', 'ClickEvent(w35) <ClickEvent(s13.w35)>'],\n",
    "'<s14>'               : \t\t['ClickEvent(w20) <ClickEvent(s14.w20)>'],\n",
    "'<s15>'               : \t\t['ClickEvent(w21) <ClickEvent(s15.w21)>'],\n",
    "'<s16>'               : \t\t['Click(w27) <Click(s16.w27)>', 'ClickEvent(w08) <ClickEvent(s02.w08)>', 'ClickEvent(w10) <ClickEvent(s12.w18)>', 'LongClickEvent(w22) <LongClickEvent(s16.w22)>'],\n",
    "'<s17>'               : \t\t['ClickEvent(w23) <ClickEvent(s03.w07)>'],\n",
    "'<s18>'               : \t\t['ClickEvent(w14) <ClickEvent(s18.w14)>', 'ClickEvent(w26) <ClickEvent(s18.w26)>'],\n",
    "'<s19>'               : \t\t['Click(w27) <Click(s19.w27)>'],\n",
    "'<s20>'               : \t\t['<PressBack(s20)>'],\n",
    "'<s21>'               : \t\t['ClickEvent(w02) <ClickEvent(s21.w02)>', 'ClickEvent(w03) <ClickEvent(s21.w03)>', 'ClickEvent(w28) <ClickEvent(s21.w28)>', 'LongClickEvent(w02) <ClickEvent(s21.w28)>'],\n",
    "'<s22>'               : \t\t['ClickEvent(w29) <ClickEvent(s21.w28)>', 'ClickEvent(w30) <ClickEvent(s22.w30)>', 'ClickEvent(w31) <ClickEvent(s21.w28)>', 'ClickEvent(w33) <ClickEvent(s22.w30)>', 'Tick(w32) <ClickEvent(s22.w30)>'],\n",
    "'<s23>'               : \t\t['ClickEvent(w21) <ClickEvent(s12.w25)>'],\n",
    "'<s24>'               : \t\t['ClickEvent(w36) <ClickEvent(s24.w36)>'],\n",
    "'<s25>'               : \t\t['Click(w27) <Click(s25.w27)>'],\n",
    "'<s26>'               : \t\t['ClickEvent(w11) <ClickEvent(s26.w11)>'],\n",
    "'<s27>'               : \t\t['<empty>', 'ClickEvent(w04) <ClickEvent(s03.w04)>', 'ClickEvent(w07) <ClickEvent(s26.w11)>', 'ClickEvent(w29) <ClickEvent(s21.w28)>', 'ClickEvent(w31) <ClickEvent(s21.w28)>'],\n",
    "'<s28>'               : \t\t['ClickEvent(w24) <ClickEvent(s28.w24)>'],\n",
    "'<s29>'               : \t\t['ClickEvent(w37) <ClickEvent(s21.w28)>'],\n",
    "'<s30>'               : \t\t['ClickEvent(w17) <ClickEvent(s21.w28)>', 'ClickEvent(w28) <ClickEvent(s21.w02)>', 'TextInsert(w38,bexyp) <TextInsert(s30.w38,lixxdwxhjctsalrmgb)>', 'TextInsert(w38,lixxdwxhjctsalrmgb) <TextInsert(s30.w38,lixxdwxhjctsalrmgb)>'],\n",
    "'<s31>'               : \t\t['ClickEvent(w17) <ClickEvent(s21.w28)>', 'ClickEvent(w39) <ClickEvent(s21.w02)>'],\n",
    "'<start>'             : \t\t['<empty>', '<s01>'],\n",
    "}"
   ]
  },
  {
   "cell_type": "code",
   "execution_count": 18,
   "metadata": {},
   "outputs": [
    {
     "name": "stdout",
     "output_type": "stream",
     "text": [
      "\n",
      "ClickEvent(w03) ClickEvent(w07) ClickEvent(w12) ClickEvent(w02) ClickEvent(w13) ClickEvent(w14) ClickEvent(w15) ClickEvent(w16) ClickEvent(w17) ClickEvent(w18) ClickEvent(w26) ClickEvent(w24) ClickEvent(w37) ClickEvent(w03) ClickEvent(w04) LongClickEvent(w05) LongClickEvent(w05) ClickEvent(w01) ClickEvent(w29) \n",
      "ClickEvent(w00) ClickEvent(w08) ClickEvent(w09) LongClickEvent(w23) LongClickEvent(w23) ClickEvent(w12) ClickEvent(w19) ClickEvent(w20) ClickEvent(w21) ClickEvent(w03) ClickEvent(w07) ClickEvent(w12) ClickEvent(w01) ClickEvent(w12) ClickEvent(w26) ClickEvent(w24) ClickEvent(w37) ClickEvent(w28) \n",
      "ClickEvent(w00) ClickEvent(w10) ClickEvent(w24) ClickEvent(w18) ClickEvent(w35) ClickEvent(w21) ClickEvent(w26) Click(w27) ClickEvent(w02) TextInsert(w38,bexyp) ClickEvent(w39) TextInsert(w38,lixxdwxhjctsalrmgb) ClickEvent(w17) ClickEvent(w03) ClickEvent(w30) Tick(w32) Tick(w32) ClickEvent(w33) ClickEvent(w30) ClickEvent(w31) ClickEvent(w28) LongClickEvent(w02) ClickEvent(w28) \n",
      "ClickEvent(w00) LongClickEvent(w22) ClickEvent(w23) LongClickEvent(w10) ClickEvent(w10) ClickEvent(w02) ClickEvent(w13) ClickEvent(w14) ClickEvent(w15) ClickEvent(w14) ClickEvent(w15) ClickEvent(w16) ClickEvent(w17) ClickEvent(w25) ClickEvent(w14) ClickEvent(w36) Click(w27) ClickEvent(w11) Click(w27) ClickEvent(w29) ClickEvent(w03) ClickEvent(w04) LongClickEvent(w05) ClickEvent(w01) ClickEvent(w06) ClickEvent(w03) ClickEvent(w07) LongClickEvent(w10) ClickEvent(w10) ClickEvent(w02) ClickEvent(w13) ClickEvent(w14) ClickEvent(w15) ClickEvent(w16) ClickEvent(w17) ClickEvent(w18) ClickEvent(w35) ClickEvent(w21) ClickEvent(w26) Click(w27) LongClickEvent(w02) \n",
      "ClickEvent(w03) ClickEvent(w06) \n",
      "ClickEvent(w00) ClickEvent(w08) ClickEvent(w09) ClickEvent(w11) ClickEvent(w12) ClickEvent(w01) LongClickEvent(w10) ClickEvent(w10) ClickEvent(w02) ClickEvent(w13) ClickEvent(w16) ClickEvent(w17) ClickEvent(w25) ClickEvent(w14) ClickEvent(w36) Click(w27) ClickEvent(w11) ClickEvent(w10) ClickEvent(w19) ClickEvent(w20) ClickEvent(w21) LongClickEvent(w02) \n",
      "ClickEvent(w03) \n",
      "LongClickEvent(w02) \n",
      "ClickEvent(w00) Click(w27) ClickEvent(w31) ClickEvent(w02) TextInsert(w38,bexyp) ClickEvent(w39) ClickEvent(w28) TextInsert(w38,lixxdwxhjctsalrmgb) ClickEvent(w17) ClickEvent(w03) ClickEvent(w33) ClickEvent(w29) ClickEvent(w28) ClickEvent(w03) ClickEvent(w04) ClickEvent(w01) ClickEvent(w06) \n",
      "ClickEvent(w03) ClickEvent(w07) ClickEvent(w08) ClickEvent(w34) LongClickEvent(w22) ClickEvent(w23) \n"
     ]
    }
   ],
   "source": [
    "fuzzer = TerminalCoverageGrammar(test_grammar, min_nonterminals=1, log=False)\n",
    "max_exp = fuzzer.all_symbols_grammar()\n",
    "reached = set()\n",
    "while len(max_exp - fuzzer.expansion_coverage()) > 0:\n",
    "    inp = fuzzer.fuzz()\n",
    "    reached.add(inp)\n",
    "    \n",
    "for x in reached:\n",
    "    print(x)"
   ]
  },
  {
   "cell_type": "markdown",
   "metadata": {},
   "source": [
    "## Get all terminals from the grammar"
   ]
  },
  {
   "cell_type": "code",
   "execution_count": 19,
   "metadata": {},
   "outputs": [
    {
     "data": {
      "text/plain": [
       "['Tick(w32) ',\n",
       " 'ClickEvent(w18) ',\n",
       " 'ClickEvent(w21) ',\n",
       " 'ClickEvent(w01) ',\n",
       " 'ClickEvent(w06) ',\n",
       " 'ClickEvent(w24) ',\n",
       " 'ClickEvent(w12) ',\n",
       " 'Click(w27) ',\n",
       " 'ClickEvent(w10) ',\n",
       " 'ClickEvent(w36) ',\n",
       " 'ClickEvent(w16) ',\n",
       " 'TextInsert(w38,bexyp) ',\n",
       " 'ClickEvent(w29) ',\n",
       " 'LongClickEvent(w05) ',\n",
       " 'ClickEvent(w34) ',\n",
       " 'ClickEvent(w20) ',\n",
       " 'ClickEvent(w04) ',\n",
       " 'ClickEvent(w03) ',\n",
       " 'LongClickEvent(w02) ',\n",
       " 'LongClickEvent(w23) ',\n",
       " 'ClickEvent(w28) ',\n",
       " 'TextInsert(w38,lixxdwxhjctsalrmgb) ',\n",
       " 'ClickEvent(w31) ',\n",
       " 'ClickEvent(w09) ',\n",
       " 'ClickEvent(w25) ',\n",
       " 'ClickEvent(w35) ',\n",
       " 'LongClickEvent(w10) ',\n",
       " 'ClickEvent(w30) ',\n",
       " 'ClickEvent(w11) ',\n",
       " 'ClickEvent(w14) ',\n",
       " 'ClickEvent(w08) ',\n",
       " 'ClickEvent(w02) ',\n",
       " 'LongClickEvent(w22) ',\n",
       " 'ClickEvent(w07) ',\n",
       " 'ClickEvent(w13) ',\n",
       " 'ClickEvent(w37) ',\n",
       " 'ClickEvent(w19) ',\n",
       " 'ClickEvent(w00) ',\n",
       " 'ClickEvent(w23) ',\n",
       " 'ClickEvent(w33) ',\n",
       " 'ClickEvent(w39) ',\n",
       " 'ClickEvent(w17) ',\n",
       " 'ClickEvent(w26) ',\n",
       " 'ClickEvent(w15) ']"
      ]
     },
     "execution_count": 19,
     "metadata": {},
     "output_type": "execute_result"
    }
   ],
   "source": [
    "list(filter(lambda x: not \"<\" in x, fuzzer.all_symbols_grammar()))"
   ]
  },
  {
   "cell_type": "markdown",
   "metadata": {},
   "source": [
    "# aMetro 1000"
   ]
  },
  {
   "cell_type": "code",
   "execution_count": 20,
   "metadata": {},
   "outputs": [],
   "source": [
    "test_grammar = {\n",
    "'<Click(s09.w22)>'    : \t\t['<empty>', '<s10>'],\n",
    "'<ClickEvent(s01.w00)>' : \t\t['<empty>', '<s02>', '<s09>', '<s29>', '<s71>'],\n",
    "'<ClickEvent(s01.w02)>' : \t\t['<empty>', '<s11>'],\n",
    "'<ClickEvent(s01.w03)>' : \t\t['<empty>', '<s03>'],\n",
    "'<ClickEvent(s02.w01)>' : \t\t['<empty>', '<s01>', '<s03>', '<s11>'],\n",
    "'<ClickEvent(s02.w02)>' : \t\t['<empty>', '<s48>'],\n",
    "'<ClickEvent(s02.w08)>' : \t\t['<empty>', '<s05>'],\n",
    "'<ClickEvent(s02.w12)>' : \t\t['<empty>', '<s07>', '<s13>'],\n",
    "'<ClickEvent(s03.w00)>' : \t\t['<empty>', '<s02>', '<s09>', '<s29>', '<s43>'],\n",
    "'<ClickEvent(s03.w02)>' : \t\t['<empty>', '<s34>'],\n",
    "'<ClickEvent(s03.w04)>' : \t\t['<empty>', '<s04>'],\n",
    "'<ClickEvent(s03.w07)>' : \t\t['<empty>', '<s02>', '<s09>', '<s29>', '<s43>', '<s71>'],\n",
    "'<ClickEvent(s04.w01)>' : \t\t['<empty>', '<s03>', '<s21>', '<s30>', '<s34>', '<s65>'],\n",
    "'<ClickEvent(s05.w09)>' : \t\t['<empty>', '<s06>', '<s24>', '<s45>', '<s51>'],\n",
    "'<ClickEvent(s06.w11)>' : \t\t['<empty>', '<s02>'],\n",
    "'<ClickEvent(s07.w01)>' : \t\t['<empty>', '<s02>', '<s39>'],\n",
    "'<ClickEvent(s07.w13)>' : \t\t['<empty>', '<s08>'],\n",
    "'<ClickEvent(s07.w20)>' : \t\t['<empty>', '<s14>'],\n",
    "'<ClickEvent(s07.w23)>' : \t\t['<empty>', '<s15>'],\n",
    "'<ClickEvent(s07.w26)>' : \t\t['<empty>', '<s08>', '<s14>'],\n",
    "'<ClickEvent(s07.w28)>' : \t\t['<empty>', '<s15>', '<s25>'],\n",
    "'<ClickEvent(s07.w33)>' : \t\t['<empty>', '<s14>', '<s25>'],\n",
    "'<ClickEvent(s08.w14)>' : \t\t['<empty>', '<s00>'],\n",
    "'<ClickEvent(s08.w27)>' : \t\t['<empty>', '<s38>'],\n",
    "'<ClickEvent(s09.w01)>' : \t\t['<empty>', '<s01>', '<s03>', '<s11>', '<s20>'],\n",
    "'<ClickEvent(s09.w02)>' : \t\t['<empty>', '<s35>'],\n",
    "'<ClickEvent(s09.w10)>' : \t\t['<empty>', '<s07>'],\n",
    "'<ClickEvent(s09.w15)>' : \t\t['<empty>', '<s10>', '<s20>'],\n",
    "'<ClickEvent(s11.w00)>' : \t\t['<empty>', '<s02>', '<s09>'],\n",
    "'<ClickEvent(s13.w02)>' : \t\t['<empty>', '<s53>'],\n",
    "'<ClickEvent(s14.w20)>' : \t\t['<empty>', '<s27>'],\n",
    "'<ClickEvent(s14.w21)>' : \t\t['<empty>', '<s09>', '<s27>'],\n",
    "'<ClickEvent(s14.w25)>' : \t\t['<empty>', '<s45>'],\n",
    "'<ClickEvent(s14.w26)>' : \t\t['<empty>', '<s15>', '<s27>'],\n",
    "'<ClickEvent(s15.w23)>' : \t\t['<empty>', '<s58>'],\n",
    "'<ClickEvent(s15.w24)>' : \t\t['<empty>', '<s16>'],\n",
    "'<ClickEvent(s15.w25)>' : \t\t['<empty>', '<s33>'],\n",
    "'<ClickEvent(s15.w28)>' : \t\t['<empty>', '<s24>'],\n",
    "'<ClickEvent(s16.w24)>' : \t\t['<empty>', '<s42>'],\n",
    "'<ClickEvent(s16.w25)>' : \t\t['<empty>', '<s17>'],\n",
    "'<ClickEvent(s16.w28)>' : \t\t['<empty>', '<s43>'],\n",
    "'<ClickEvent(s17.w26)>' : \t\t['<empty>', '<s18>'],\n",
    "'<ClickEvent(s18.w27)>' : \t\t['<empty>', '<s19>'],\n",
    "'<ClickEvent(s19.w28)>' : \t\t['<empty>', '<s09>'],\n",
    "'<ClickEvent(s19.w40)>' : \t\t['<empty>', '<s50>'],\n",
    "'<ClickEvent(s20.w02)>' : \t\t['<empty>', '<s22>'],\n",
    "'<ClickEvent(s20.w03)>' : \t\t['<empty>', '<s21>', '<s31>', '<s32>', '<s65>'],\n",
    "'<ClickEvent(s20.w29)>' : \t\t['<empty>', '<s20>'],\n",
    "'<ClickEvent(s21.w02)>' : \t\t['<empty>', '<s30>'],\n",
    "'<ClickEvent(s21.w07)>' : \t\t['<empty>', '<s09>', '<s29>', '<s43>', '<s64>', '<s71>'],\n",
    "'<ClickEvent(s21.w29)>' : \t\t['<empty>', '<s21>'],\n",
    "'<ClickEvent(s24.w01)>' : \t\t['<empty>', '<s03>', '<s12>'],\n",
    "'<ClickEvent(s25.w26)>' : \t\t['<empty>', '<s62>'],\n",
    "'<ClickEvent(s25.w27)>' : \t\t['<empty>', '<s28>'],\n",
    "'<ClickEvent(s27.w14)>' : \t\t['<empty>', '<s40>'],\n",
    "'<ClickEvent(s27.w26)>' : \t\t['<empty>', '<s49>'],\n",
    "'<ClickEvent(s27.w28)>' : \t\t['<empty>', '<s25>'],\n",
    "'<ClickEvent(s28.w13)>' : \t\t['<empty>', '<s29>'],\n",
    "'<ClickEvent(s28.w34)>' : \t\t['<empty>', '<s71>'],\n",
    "'<ClickEvent(s29.w02)>' : \t\t['<empty>', '<s59>'],\n",
    "'<ClickEvent(s35.w08)>' : \t\t['<empty>', '<s37>'],\n",
    "'<ClickEvent(s37.w09)>' : \t\t['<empty>', '<s35>', '<s59>'],\n",
    "'<ClickEvent(s37.w39)>' : \t\t['<empty>', '<s38>', '<s67>'],\n",
    "'<ClickEvent(s39.w18)>' : \t\t['<empty>', '<s09>', '<s43>'],\n",
    "'<ClickEvent(s40.w24)>' : \t\t['<empty>', '<s41>'],\n",
    "'<ClickEvent(s43.w01)>' : \t\t['<empty>', '<s01>', '<s20>'],\n",
    "'<ClickEvent(s43.w02)>' : \t\t['<empty>', '<s47>'],\n",
    "'<ClickEvent(s43.w36)>' : \t\t['<empty>', '<s20>', '<s23>'],\n",
    "'<ClickEvent(s45.w41)>' : \t\t['<empty>', '<s46>'],\n",
    "'<ClickEvent(s50.w34)>' : \t\t['<empty>', '<s51>'],\n",
    "'<ClickEvent(s53.w21)>' : \t\t['<empty>', '<s55>'],\n",
    "'<ClickEvent(s53.w33)>' : \t\t['<empty>', '<s54>'],\n",
    "'<ClickEvent(s53.w34)>' : \t\t['<empty>', '<s70>'],\n",
    "'<ClickEvent(s55.w33)>' : \t\t['<empty>', '<s57>'],\n",
    "'<ClickEvent(s55.w34)>' : \t\t['<empty>', '<s56>'],\n",
    "'<ClickEvent(s63.w32)>' : \t\t['<empty>', '<s64>'],\n",
    "'<ClickEvent(s72.w44)>' : \t\t['<empty>', '<s71>', '<s72>'],\n",
    "'<LongClickEvent(s06.w10)>' : \t\t['<empty>', '<s06>'],\n",
    "'<LongClickEvent(s09.w15)>' : \t\t['<empty>', '<s26>'],\n",
    "'<LongClickEvent(s13.w02)>' : \t\t['<empty>', '<s13>'],\n",
    "'<LongClickEvent(s29.w36)>' : \t\t['<empty>', '<s52>'],\n",
    "'<LongClickEvent(s35.w15)>' : \t\t['<empty>', '<s36>'],\n",
    "'<LongClickEvent(s43.w41)>' : \t\t['<empty>', '<s44>'],\n",
    "'<LongClickEvent(s59.w36)>' : \t\t['<empty>', '<s60>'],\n",
    "'<LongClickEvent(s62.w42)>' : \t\t['<empty>', '<s63>'],\n",
    "'<LongClickEvent(s64.w36)>' : \t\t['<empty>', '<s66>'],\n",
    "'<LongClickEvent(s71.w44)>' : \t\t['<empty>', '<s72>'],\n",
    "'<PressBack(s00)>'    : \t\t['<s01>'],\n",
    "'<PressBack(s10)>'    : \t\t['<s00>', '<s10>', '<s20>', '<s22>'],\n",
    "'<PressBack(s42)>'    : \t\t['<s01>', '<s16>', '<s20>'],\n",
    "'<TextInsert(s11.w16,rpv)>' : \t\t['<empty>', '<s12>'],\n",
    "'<TextInsert(s22.w16,vka)>' : \t\t['<empty>', '<s23>'],\n",
    "'<TextInsert(s30.w16,skyeyftvldfdgvqvxcbiet)>' : \t\t['<empty>', '<s61>'],\n",
    "'<TextInsert(s35.w16,ctlulpliywrbgdwbxvt)>' : \t\t['<empty>', '<s39>'],\n",
    "'<TextInsert(s38.w16,wabd)>' : \t\t['<empty>', '<s68>'],\n",
    "'<TextInsert(s48.w16,mecrw)>' : \t\t['<empty>', '<s69>'],\n",
    "'<TextInsert(s53.w16,vejm)>' : \t\t['<empty>', '<s73>'],\n",
    "'<empty>'             : \t\t[''],\n",
    "'<s00>'               : \t\t['<empty>', 'PressBack(s00) <PressBack(s00)>'],\n",
    "'<s01>'               : \t\t['ClickEvent(w00) <ClickEvent(s01.w00)>', 'ClickEvent(w02) <ClickEvent(s01.w02)>', 'ClickEvent(w03) <ClickEvent(s01.w03)>', 'LongClickEvent(w02) <start>'],\n",
    "'<s02>'               : \t\t['ClickEvent(w01) <ClickEvent(s02.w01)>', 'ClickEvent(w02) <ClickEvent(s02.w02)>', 'ClickEvent(w08) <ClickEvent(s02.w08)>', 'ClickEvent(w10) <ClickEvent(s02.w12)>', 'ClickEvent(w12) <ClickEvent(s02.w12)>', 'LongClickEvent(w02) <ClickEvent(s06.w11)>', 'LongClickEvent(w10) <ClickEvent(s06.w11)>'],\n",
    "'<s03>'               : \t\t['ClickEvent(w00) <ClickEvent(s03.w00)>', 'ClickEvent(w02) <ClickEvent(s03.w02)>', 'ClickEvent(w04) <ClickEvent(s03.w04)>', 'ClickEvent(w06) <start>', 'ClickEvent(w07) <ClickEvent(s03.w07)>', 'LongClickEvent(w02) <ClickEvent(s01.w03)>'],\n",
    "'<s04>'               : \t\t['ClickEvent(w01) <ClickEvent(s04.w01)>', 'ClickEvent(w05) <ClickEvent(s03.w04)>', 'LongClickEvent(w05) <ClickEvent(s03.w04)>'],\n",
    "'<s05>'               : \t\t['ClickEvent(w09) <ClickEvent(s05.w09)>', 'ClickEvent(w19) <ClickEvent(s01.w00)>'],\n",
    "'<s06>'               : \t\t['ClickEvent(w01) <start>', 'ClickEvent(w11) <ClickEvent(s06.w11)>', 'ClickEvent(w12) <ClickEvent(s09.w10)>', 'ClickEvent(w32) <ClickEvent(s06.w11)>', 'LongClickEvent(w10) <LongClickEvent(s06.w10)>'],\n",
    "'<s07>'               : \t\t['<s66>', 'ClickEvent(w01) <ClickEvent(s07.w01)>', 'ClickEvent(w02) <ClickEvent(s13.w02)>', 'ClickEvent(w13) <ClickEvent(s07.w13)>', 'ClickEvent(w20) <ClickEvent(s07.w20)>', 'ClickEvent(w21) <ClickEvent(s07.w20)>', 'ClickEvent(w23) <ClickEvent(s07.w23)>', 'ClickEvent(w25) <ClickEvent(s07.w20)>', 'ClickEvent(w26) <ClickEvent(s07.w26)>', 'ClickEvent(w27) <ClickEvent(s07.w20)>', 'ClickEvent(w28) <ClickEvent(s07.w28)>', 'ClickEvent(w33) <ClickEvent(s07.w33)>', 'ClickEvent(w34) <ClickEvent(s07.w20)>', 'ClickEvent(w35) <ClickEvent(s07.w20)>', 'LongClickEvent(w02) <ClickEvent(s09.w10)>'],\n",
    "'<s08>'               : \t\t['ClickEvent(w14) <ClickEvent(s08.w14)>', 'ClickEvent(w24) <ClickEvent(s40.w24)>', 'ClickEvent(w27) <ClickEvent(s08.w27)>'],\n",
    "'<s09>'               : \t\t['Click(w22) <Click(s09.w22)>', 'ClickEvent(w01) <ClickEvent(s09.w01)>', 'ClickEvent(w02) <ClickEvent(s09.w02)>', 'ClickEvent(w08) <ClickEvent(s02.w08)>', 'ClickEvent(w10) <ClickEvent(s09.w10)>', 'ClickEvent(w15) <ClickEvent(s09.w15)>', 'LongClickEvent(w02) <ClickEvent(s19.w28)>', 'LongClickEvent(w10) <ClickEvent(s19.w28)>', 'LongClickEvent(w15) <LongClickEvent(s09.w15)>'],\n",
    "'<s10>'               : \t\t['<empty>', 'PressBack(s10) <PressBack(s10)>'],\n",
    "'<s11>'               : \t\t['ClickEvent(w00) <ClickEvent(s11.w00)>', 'ClickEvent(w18) <start>', 'TextInsert(w16,atdqfumfhlbjb) <TextInsert(s11.w16,rpv)>', 'TextInsert(w16,cna) <TextInsert(s11.w16,rpv)>', 'TextInsert(w16,mbiqgkbmknrhjrbqeoz) <TextInsert(s11.w16,rpv)>', 'TextInsert(w16,rpv) <TextInsert(s11.w16,rpv)>', 'TextInsert(w16,ycisxhjxcylfw) <TextInsert(s11.w16,rpv)>'],\n",
    "'<s12>'               : \t\t['ClickEvent(w00) <ClickEvent(s11.w00)>', 'ClickEvent(w17) <ClickEvent(s01.w02)>', 'ClickEvent(w18) <start>'],\n",
    "'<s13>'               : \t\t['ClickEvent(w01) <ClickEvent(s06.w11)>', 'ClickEvent(w02) <ClickEvent(s13.w02)>', 'LongClickEvent(w02) <LongClickEvent(s13.w02)>'],\n",
    "'<s14>'               : \t\t['ClickEvent(w01) <TextInsert(s35.w16,ctlulpliywrbgdwbxvt)>', 'ClickEvent(w02) <ClickEvent(s13.w02)>', 'ClickEvent(w20) <ClickEvent(s14.w20)>', 'ClickEvent(w21) <ClickEvent(s14.w21)>', 'ClickEvent(w23) <ClickEvent(s07.w28)>', 'ClickEvent(w25) <ClickEvent(s14.w25)>', 'ClickEvent(w26) <ClickEvent(s14.w26)>', 'ClickEvent(w27) <ClickEvent(s14.w20)>', 'ClickEvent(w28) <ClickEvent(s14.w20)>', 'ClickEvent(w33) <ClickEvent(s27.w28)>', 'ClickEvent(w34) <ClickEvent(s15.w25)>', 'ClickEvent(w35) <ClickEvent(s14.w20)>'],\n",
    "'<s15>'               : \t\t['ClickEvent(w14) <ClickEvent(s16.w28)>', 'ClickEvent(w23) <ClickEvent(s15.w23)>', 'ClickEvent(w24) <ClickEvent(s15.w24)>', 'ClickEvent(w25) <ClickEvent(s15.w25)>', 'ClickEvent(w26) <ClickEvent(s28.w13)>', 'ClickEvent(w28) <ClickEvent(s15.w28)>'],\n",
    "'<s16>'               : \t\t['ClickEvent(w13) <ClickEvent(s16.w24)>', 'ClickEvent(w24) <ClickEvent(s16.w24)>', 'ClickEvent(w25) <ClickEvent(s16.w25)>', 'ClickEvent(w28) <ClickEvent(s16.w28)>', 'ClickEvent(w40) <ClickEvent(s15.w24)>'],\n",
    "'<s17>'               : \t\t['ClickEvent(w26) <ClickEvent(s17.w26)>'],\n",
    "'<s18>'               : \t\t['ClickEvent(w27) <ClickEvent(s18.w27)>'],\n",
    "'<s19>'               : \t\t['ClickEvent(w28) <ClickEvent(s19.w28)>', 'ClickEvent(w40) <ClickEvent(s19.w40)>'],\n",
    "'<s20>'               : \t\t['<empty>', 'ClickEvent(w02) <ClickEvent(s20.w02)>', 'ClickEvent(w03) <ClickEvent(s20.w03)>', 'ClickEvent(w29) <ClickEvent(s20.w29)>', 'LongClickEvent(w02) <ClickEvent(s20.w29)>'],\n",
    "'<s21>'               : \t\t['<empty>', 'ClickEvent(w02) <ClickEvent(s21.w02)>', 'ClickEvent(w04) <ClickEvent(s03.w04)>', 'ClickEvent(w06) <ClickEvent(s20.w29)>', 'ClickEvent(w07) <ClickEvent(s21.w07)>', 'ClickEvent(w29) <ClickEvent(s21.w29)>', 'ClickEvent(w30) <ClickEvent(s20.w29)>', 'ClickEvent(w31) <ClickEvent(s20.w29)>', 'LongClickEvent(w02) <ClickEvent(s21.w29)>'],\n",
    "'<s22>'               : \t\t['<empty>', 'ClickEvent(w18) <ClickEvent(s20.w29)>', 'ClickEvent(w29) <ClickEvent(s20.w02)>', 'TextInsert(w16,avwwvqipxauwwktfkikh) <TextInsert(s22.w16,vka)>', 'TextInsert(w16,bcqgebyiq) <TextInsert(s22.w16,vka)>', 'TextInsert(w16,bediwos) <TextInsert(s22.w16,vka)>', 'TextInsert(w16,cfpdjqfkglthzqmnqczs) <TextInsert(s22.w16,vka)>', 'TextInsert(w16,degyrtkt) <TextInsert(s22.w16,vka)>', 'TextInsert(w16,dpjcvl) <TextInsert(s22.w16,vka)>', 'TextInsert(w16,fhdnwbruxzbvoualqdqlrq) <TextInsert(s22.w16,vka)>', 'TextInsert(w16,fllyppaymgdgfwvvvpj) <TextInsert(s22.w16,vka)>', 'TextInsert(w16,fowirhhruatgshxbxtid) <TextInsert(s22.w16,vka)>', 'TextInsert(w16,havdbqxptyyvx) <TextInsert(s22.w16,vka)>', 'TextInsert(w16,hvkjlg) <TextInsert(s22.w16,vka)>', 'TextInsert(w16,jxvqohkuovp) <TextInsert(s22.w16,vka)>', 'TextInsert(w16,kxwvkd) <TextInsert(s22.w16,vka)>', 'TextInsert(w16,mgurjcnetdvu) <TextInsert(s22.w16,vka)>', 'TextInsert(w16,nbbptjtizbjdfmukyxxbm) <TextInsert(s22.w16,vka)>', 'TextInsert(w16,ppkbyxahzbgizp) <TextInsert(s22.w16,vka)>', 'TextInsert(w16,seowcevrstbbeyhgje) <TextInsert(s22.w16,vka)>', 'TextInsert(w16,sgcvmaeyeofsydyku) <TextInsert(s22.w16,vka)>', 'TextInsert(w16,uvarwdfkpistrd) <TextInsert(s22.w16,vka)>', 'TextInsert(w16,vka) <TextInsert(s22.w16,vka)>', 'TextInsert(w16,wdopjawpuosgt) <TextInsert(s22.w16,vka)>', 'TextInsert(w16,xvtampzmroiijok) <TextInsert(s22.w16,vka)>', 'TextInsert(w16,yixuj) <TextInsert(s22.w16,vka)>', 'TextInsert(w16,yrk) <TextInsert(s22.w16,vka)>', 'TextInsert(w16,zbnuojsimcb) <TextInsert(s22.w16,vka)>'],\n",
    "'<s23>'               : \t\t['ClickEvent(w17) <ClickEvent(s20.w02)>', 'ClickEvent(w18) <ClickEvent(s20.w29)>', 'ClickEvent(w29) <TextInsert(s22.w16,vka)>'],\n",
    "'<s24>'               : \t\t['ClickEvent(w01) <ClickEvent(s24.w01)>', 'ClickEvent(w10) <ClickEvent(s09.w10)>', 'ClickEvent(w11) <ClickEvent(s19.w28)>', 'ClickEvent(w32) <ClickEvent(s19.w28)>', 'LongClickEvent(w02) <ClickEvent(s15.w28)>', 'LongClickEvent(w10) <ClickEvent(s15.w28)>', 'LongClickEvent(w32) <ClickEvent(s15.w28)>'],\n",
    "'<s25>'               : \t\t['ClickEvent(w01) <ClickEvent(s19.w28)>', 'ClickEvent(w13) <ClickEvent(s16.w24)>', 'ClickEvent(w14) <ClickEvent(s15.w24)>', 'ClickEvent(w20) <ClickEvent(s15.w25)>', 'ClickEvent(w21) <ClickEvent(s14.w20)>', 'ClickEvent(w23) <ClickEvent(s16.w28)>', 'ClickEvent(w25) <ClickEvent(s15.w25)>', 'ClickEvent(w26) <ClickEvent(s25.w26)>', 'ClickEvent(w27) <ClickEvent(s25.w27)>', 'ClickEvent(w28) <ClickEvent(s25.w27)>', 'ClickEvent(w33) <ClickEvent(s19.w28)>', 'ClickEvent(w34) <ClickEvent(s19.w28)>', 'ClickEvent(w35) <ClickEvent(s15.w25)>'],\n",
    "'<s26>'               : \t\t['ClickEvent(w11) <ClickEvent(s19.w28)>'],\n",
    "'<s27>'               : \t\t['ClickEvent(w14) <ClickEvent(s27.w14)>', 'ClickEvent(w20) <ClickEvent(s27.w28)>', 'ClickEvent(w21) <ClickEvent(s15.w25)>', 'ClickEvent(w23) <ClickEvent(s27.w28)>', 'ClickEvent(w25) <ClickEvent(s27.w28)>', 'ClickEvent(w26) <ClickEvent(s27.w26)>', 'ClickEvent(w27) <ClickEvent(s07.w20)>', 'ClickEvent(w28) <ClickEvent(s27.w28)>', 'ClickEvent(w33) <ClickEvent(s27.w28)>', 'ClickEvent(w34) <ClickEvent(s27.w28)>', 'ClickEvent(w35) <ClickEvent(s14.w20)>'],\n",
    "'<s28>'               : \t\t['ClickEvent(w13) <ClickEvent(s28.w13)>', 'ClickEvent(w14) <ClickEvent(s07.w13)>', 'ClickEvent(w34) <ClickEvent(s28.w34)>'],\n",
    "'<s29>'               : \t\t['ClickEvent(w01) <ClickEvent(s02.w01)>', 'ClickEvent(w02) <ClickEvent(s29.w02)>', 'ClickEvent(w08) <ClickEvent(s02.w08)>', 'ClickEvent(w10) <ClickEvent(s09.w10)>', 'ClickEvent(w15) <ClickEvent(s20.w29)>', 'ClickEvent(w36) <ClickEvent(s09.w15)>', 'LongClickEvent(w02) <ClickEvent(s28.w13)>', 'LongClickEvent(w10) <ClickEvent(s28.w13)>', 'LongClickEvent(w36) <LongClickEvent(s29.w36)>'],\n",
    "'<s30>'               : \t\t['ClickEvent(w04) <ClickEvent(s03.w04)>', 'ClickEvent(w07) <ClickEvent(s16.w28)>', 'ClickEvent(w18) <ClickEvent(s21.w29)>', 'ClickEvent(w29) <ClickEvent(s21.w02)>', 'ClickEvent(w30) <ClickEvent(s20.w02)>', 'ClickEvent(w31) <ClickEvent(s20.w02)>', 'TextInsert(w16,skyeyftvldfdgvqvxcbiet) <TextInsert(s30.w16,skyeyftvldfdgvqvxcbiet)>'],\n",
    "'<s31>'               : \t\t['ClickEvent(w37) <ClickEvent(s20.w29)>'],\n",
    "'<s32>'               : \t\t['ClickEvent(w38) <ClickEvent(s20.w29)>'],\n",
    "'<s33>'               : \t\t['ClickEvent(w14) <ClickEvent(s28.w13)>', 'ClickEvent(w21) <ClickEvent(s15.w25)>', 'ClickEvent(w23) <ClickEvent(s27.w28)>', 'ClickEvent(w26) <ClickEvent(s25.w27)>', 'ClickEvent(w27) <ClickEvent(s09.w02)>', 'ClickEvent(w28) <ClickEvent(s19.w28)>', 'ClickEvent(w33) <TextInsert(s35.w16,ctlulpliywrbgdwbxvt)>', 'ClickEvent(w34) <ClickEvent(s14.w20)>'],\n",
    "'<s34>'               : \t\t['ClickEvent(w04) <ClickEvent(s03.w04)>', 'ClickEvent(w07) <ClickEvent(s19.w28)>'],\n",
    "'<s35>'               : \t\t['ClickEvent(w08) <ClickEvent(s35.w08)>', 'ClickEvent(w18) <ClickEvent(s19.w28)>', 'LongClickEvent(w15) <LongClickEvent(s35.w15)>', 'TextInsert(w16,ctlulpliywrbgdwbxvt) <TextInsert(s35.w16,ctlulpliywrbgdwbxvt)>', 'TextInsert(w16,cyfisshurmlicnuhl) <TextInsert(s35.w16,ctlulpliywrbgdwbxvt)>', 'TextInsert(w16,hmmzh) <TextInsert(s35.w16,ctlulpliywrbgdwbxvt)>', 'TextInsert(w16,udusdawgvftkgkszmu) <TextInsert(s35.w16,ctlulpliywrbgdwbxvt)>', 'TextInsert(w16,wozybij) <TextInsert(s35.w16,ctlulpliywrbgdwbxvt)>'],\n",
    "'<s36>'               : \t\t['ClickEvent(w11) <ClickEvent(s09.w02)>'],\n",
    "'<s37>'               : \t\t['ClickEvent(w09) <ClickEvent(s37.w09)>', 'ClickEvent(w19) <ClickEvent(s09.w10)>', 'ClickEvent(w39) <ClickEvent(s37.w39)>'],\n",
    "'<s38>'               : \t\t['ClickEvent(w11) <ClickEvent(s09.w02)>', 'ClickEvent(w18) <ClickEvent(s15.w28)>', 'ClickEvent(w32) <ClickEvent(s09.w02)>', 'TextInsert(w16,wabd) <TextInsert(s38.w16,wabd)>'],\n",
    "'<s39>'               : \t\t['<empty>', 'ClickEvent(w08) <ClickEvent(s35.w08)>', 'ClickEvent(w17) <ClickEvent(s09.w02)>', 'ClickEvent(w18) <ClickEvent(s39.w18)>'],\n",
    "'<s40>'               : \t\t['ClickEvent(w24) <ClickEvent(s40.w24)>'],\n",
    "'<s41>'               : \t\t['ClickEvent(w14) <TextInsert(s35.w16,ctlulpliywrbgdwbxvt)>', 'ClickEvent(w35) <ClickEvent(s15.w24)>'],\n",
    "'<s42>'               : \t\t['PressBack(s42) <PressBack(s42)>'],\n",
    "'<s43>'               : \t\t['ClickEvent(w01) <ClickEvent(s43.w01)>', 'ClickEvent(w02) <ClickEvent(s43.w02)>', 'ClickEvent(w08) <ClickEvent(s02.w08)>', 'ClickEvent(w10) <ClickEvent(s09.w10)>', 'ClickEvent(w36) <ClickEvent(s43.w36)>', 'ClickEvent(w41) <ClickEvent(s20.w29)>', 'LongClickEvent(w10) <ClickEvent(s16.w28)>', 'LongClickEvent(w36) <LongClickEvent(s43.w41)>', 'LongClickEvent(w41) <LongClickEvent(s43.w41)>'],\n",
    "'<s44>'               : \t\t['ClickEvent(w01) <start>', 'ClickEvent(w11) <ClickEvent(s16.w28)>', 'ClickEvent(w36) <LongClickEvent(s43.w41)>', 'ClickEvent(w41) <ClickEvent(s16.w28)>', 'LongClickEvent(w10) <LongClickEvent(s43.w41)>', 'LongClickEvent(w32) <LongClickEvent(s43.w41)>'],\n",
    "'<s45>'               : \t\t['ClickEvent(w11) <ClickEvent(s16.w28)>', 'ClickEvent(w36) <ClickEvent(s45.w41)>', 'ClickEvent(w41) <ClickEvent(s45.w41)>', 'LongClickEvent(w32) <ClickEvent(s14.w25)>'],\n",
    "'<s46>'               : \t\t['ClickEvent(w01) <ClickEvent(s20.w29)>', 'ClickEvent(w11) <ClickEvent(s16.w28)>', 'LongClickEvent(w10) <ClickEvent(s45.w41)>', 'LongClickEvent(w32) <ClickEvent(s45.w41)>', 'LongClickEvent(w36) <ClickEvent(s45.w41)>', 'LongClickEvent(w41) <ClickEvent(s45.w41)>'],\n",
    "'<s47>'               : \t\t['ClickEvent(w36) <ClickEvent(s20.w02)>', 'ClickEvent(w41) <ClickEvent(s20.w29)>'],\n",
    "'<s48>'               : \t\t['ClickEvent(w08) <ClickEvent(s35.w08)>', 'ClickEvent(w12) <ClickEvent(s09.w10)>', 'TextInsert(w16,mecrw) <TextInsert(s48.w16,mecrw)>'],\n",
    "'<s49>'               : \t\t['ClickEvent(w24) <ClickEvent(s18.w27)>'],\n",
    "'<s50>'               : \t\t['ClickEvent(w34) <ClickEvent(s50.w34)>', 'ClickEvent(w40) <ClickEvent(s19.w40)>'],\n",
    "'<s51>'               : \t\t['ClickEvent(w01) <ClickEvent(s01.w03)>', 'ClickEvent(w10) <ClickEvent(s09.w10)>', 'ClickEvent(w11) <ClickEvent(s28.w13)>', 'LongClickEvent(w32) <ClickEvent(s50.w34)>', 'LongClickEvent(w36) <ClickEvent(s50.w34)>'],\n",
    "'<s52>'               : \t\t['ClickEvent(w01) <start>', 'ClickEvent(w11) <ClickEvent(s28.w13)>', 'ClickEvent(w36) <ClickEvent(s28.w13)>', 'LongClickEvent(w10) <LongClickEvent(s29.w36)>', 'LongClickEvent(w32) <LongClickEvent(s29.w36)>'],\n",
    "'<s53>'               : \t\t['ClickEvent(w18) <ClickEvent(s09.w10)>', 'ClickEvent(w20) <ClickEvent(s53.w21)>', 'ClickEvent(w21) <ClickEvent(s53.w21)>', 'ClickEvent(w25) <ClickEvent(s53.w21)>', 'ClickEvent(w33) <ClickEvent(s53.w33)>', 'ClickEvent(w34) <ClickEvent(s53.w34)>', 'ClickEvent(w35) <ClickEvent(s53.w21)>', 'TextInsert(w16,vejm) <TextInsert(s53.w16,vejm)>'],\n",
    "'<s54>'               : \t\t['ClickEvent(w20) <ClickEvent(s13.w02)>', 'ClickEvent(w33) <TextInsert(s35.w16,ctlulpliywrbgdwbxvt)>'],\n",
    "'<s55>'               : \t\t['ClickEvent(w20) <ClickEvent(s13.w02)>', 'ClickEvent(w21) <ClickEvent(s13.w02)>', 'ClickEvent(w25) <ClickEvent(s28.w13)>', 'ClickEvent(w33) <ClickEvent(s55.w33)>', 'ClickEvent(w34) <ClickEvent(s55.w34)>'],\n",
    "'<s56>'               : \t\t['ClickEvent(w27) <ClickEvent(s55.w34)>', 'ClickEvent(w35) <ClickEvent(s53.w21)>'],\n",
    "'<s57>'               : \t\t['ClickEvent(w20) <ClickEvent(s19.w28)>'],\n",
    "'<s58>'               : \t\t['PressBack(s58) <PressBack(s00)>'],\n",
    "'<s59>'               : \t\t['ClickEvent(w08) <ClickEvent(s35.w08)>', 'ClickEvent(w18) <ClickEvent(s28.w13)>', 'LongClickEvent(w36) <LongClickEvent(s59.w36)>', 'TextInsert(w16,dmsigrqwy) <TextInsert(s35.w16,ctlulpliywrbgdwbxvt)>'],\n",
    "'<s60>'               : \t\t['ClickEvent(w11) <ClickEvent(s29.w02)>', 'LongClickEvent(w32) <LongClickEvent(s59.w36)>'],\n",
    "'<s61>'               : \t\t['ClickEvent(w30) <TextInsert(s22.w16,vka)>'],\n",
    "'<s62>'               : \t\t['LongClickEvent(w42) <LongClickEvent(s62.w42)>', 'LongClickEvent(w44) <LongClickEvent(s62.w42)>'],\n",
    "'<s63>'               : \t\t['ClickEvent(w11) <ClickEvent(s25.w26)>', 'ClickEvent(w32) <ClickEvent(s63.w32)>', 'ClickEvent(w41) <LongClickEvent(s62.w42)>', 'ClickEvent(w42) <LongClickEvent(s62.w42)>', 'ClickEvent(w43) <LongClickEvent(s62.w42)>', 'ClickEvent(w44) <LongClickEvent(s62.w42)>'],\n",
    "'<s64>'               : \t\t['ClickEvent(w41) <ClickEvent(s20.w29)>', 'ClickEvent(w43) <ClickEvent(s21.w29)>', 'ClickEvent(w44) <ClickEvent(s20.w29)>', 'LongClickEvent(w36) <LongClickEvent(s64.w36)>'],\n",
    "'<s65>'               : \t\t['ClickEvent(w04) <ClickEvent(s03.w04)>', 'ClickEvent(w06) <ClickEvent(s20.w29)>', 'ClickEvent(w07) <ClickEvent(s63.w32)>', 'ClickEvent(w30) <ClickEvent(s20.w29)>', 'ClickEvent(w31) <ClickEvent(s20.w29)>', 'ClickEvent(w37) <ClickEvent(s20.w29)>', 'ClickEvent(w38) <ClickEvent(s20.w29)>', 'ClickEvent(w45) <ClickEvent(s20.w29)>', 'ClickEvent(w46) <ClickEvent(s20.w29)>', 'ClickEvent(w47) <ClickEvent(s20.w29)>'],\n",
    "'<s66>'               : \t\t['<empty>'],\n",
    "'<s67>'               : \t\t['ClickEvent(w12) <ClickEvent(s09.w10)>'],\n",
    "'<s68>'               : \t\t['ClickEvent(w11) <TextInsert(s35.w16,ctlulpliywrbgdwbxvt)>', 'LongClickEvent(w32) <TextInsert(s38.w16,wabd)>'],\n",
    "'<s69>'               : \t\t['ClickEvent(w12) <ClickEvent(s09.w10)>'],\n",
    "'<s70>'               : \t\t['ClickEvent(w21) <ClickEvent(s53.w33)>'],\n",
    "'<s71>'               : \t\t['ClickEvent(w01) <ClickEvent(s01.w03)>', 'ClickEvent(w08) <ClickEvent(s02.w08)>', 'ClickEvent(w41) <ClickEvent(s20.w29)>', 'LongClickEvent(w02) <ClickEvent(s28.w34)>', 'LongClickEvent(w10) <ClickEvent(s28.w34)>', 'LongClickEvent(w36) <LongClickEvent(s71.w44)>', 'LongClickEvent(w41) <LongClickEvent(s71.w44)>', 'LongClickEvent(w44) <LongClickEvent(s71.w44)>'],\n",
    "'<s72>'               : \t\t['ClickEvent(w01) <start>', 'ClickEvent(w11) <ClickEvent(s28.w34)>', 'ClickEvent(w32) <ClickEvent(s19.w28)>', 'ClickEvent(w36) <LongClickEvent(s71.w44)>', 'ClickEvent(w41) <ClickEvent(s72.w44)>', 'ClickEvent(w44) <ClickEvent(s72.w44)>', 'LongClickEvent(w02) <LongClickEvent(s71.w44)>', 'LongClickEvent(w10) <LongClickEvent(s71.w44)>', 'LongClickEvent(w32) <LongClickEvent(s71.w44)>'],\n",
    "'<s73>'               : \t\t['ClickEvent(w17) <ClickEvent(s13.w02)>'],\n",
    "'<start>'             : \t\t['<empty>', '<s01>'],\n",
    "}"
   ]
  },
  {
   "cell_type": "code",
   "execution_count": 32,
   "metadata": {
    "scrolled": true
   },
   "outputs": [
    {
     "name": "stdout",
     "output_type": "stream",
     "text": [
      "\n",
      "ClickEvent(w00) LongClickEvent(w44) ClickEvent(w44) ClickEvent(w11) ClickEvent(w08) ClickEvent(w09) LongClickEvent(w32) LongClickEvent(w32) LongClickEvent(w32) LongClickEvent(w32) ClickEvent(w36) LongClickEvent(w10) LongClickEvent(w32) LongClickEvent(w36) ClickEvent(w11) ClickEvent(w02) ClickEvent(w41) \n",
      "ClickEvent(w03) ClickEvent(w07) LongClickEvent(w02) LongClickEvent(w44) ClickEvent(w44) ClickEvent(w41) ClickEvent(w32) ClickEvent(w15) PressBack(s10) PressBack(s00) ClickEvent(w02) TextInsert(w16,rpv) ClickEvent(w00) LongClickEvent(w15) ClickEvent(w11) ClickEvent(w01) TextInsert(w16,atdqfumfhlbjb) ClickEvent(w00) ClickEvent(w10) LongClickEvent(w02) ClickEvent(w02) ClickEvent(w34) ClickEvent(w21) ClickEvent(w20) TextInsert(w16,vejm) ClickEvent(w17) TextInsert(w16,vejm) ClickEvent(w17) ClickEvent(w34) ClickEvent(w21) ClickEvent(w20) ClickEvent(w25) ClickEvent(w33) ClickEvent(w20) ClickEvent(w01) ClickEvent(w00) ClickEvent(w01) TextInsert(w16,mbiqgkbmknrhjrbqeoz) ClickEvent(w17) TextInsert(w16,cna) ClickEvent(w00) ClickEvent(w02) TextInsert(w16,mecrw) ClickEvent(w12) ClickEvent(w28) ClickEvent(w23) PressBack(s58) ClickEvent(w00) ClickEvent(w02) LongClickEvent(w36) LongClickEvent(w32) LongClickEvent(w32) ClickEvent(w11) TextInsert(w16,dmsigrqwy) ClickEvent(w08) ClickEvent(w39) ClickEvent(w12) ClickEvent(w23) ClickEvent(w25) ClickEvent(w26) ClickEvent(w14) ClickEvent(w24) ClickEvent(w35) ClickEvent(w40) ClickEvent(w25) ClickEvent(w26) ClickEvent(w27) ClickEvent(w40) ClickEvent(w40) ClickEvent(w40) ClickEvent(w34) LongClickEvent(w32) ClickEvent(w11) ClickEvent(w15) ClickEvent(w29) \n",
      "ClickEvent(w00) ClickEvent(w02) TextInsert(w16,dmsigrqwy) ClickEvent(w08) ClickEvent(w39) ClickEvent(w12) ClickEvent(w26) ClickEvent(w26) ClickEvent(w26) ClickEvent(w24) ClickEvent(w28) ClickEvent(w01) TextInsert(w16,mbiqgkbmknrhjrbqeoz) ClickEvent(w00) ClickEvent(w01) TextInsert(w16,atdqfumfhlbjb) ClickEvent(w00) ClickEvent(w08) ClickEvent(w19) LongClickEvent(w41) ClickEvent(w44) ClickEvent(w32) ClickEvent(w15) PressBack(s10) PressBack(s00) ClickEvent(w03) ClickEvent(w02) ClickEvent(w04) ClickEvent(w05) ClickEvent(w01) ClickEvent(w31) TextInsert(w16,havdbqxptyyvx) ClickEvent(w17) TextInsert(w16,yixuj) ClickEvent(w29) ClickEvent(w17) TextInsert(w16,degyrtkt) ClickEvent(w29) ClickEvent(w18) ClickEvent(w03) ClickEvent(w38) LongClickEvent(w02) \n",
      "ClickEvent(w02) TextInsert(w16,atdqfumfhlbjb) ClickEvent(w00) ClickEvent(w08) ClickEvent(w09) LongClickEvent(w02) ClickEvent(w01) ClickEvent(w00) ClickEvent(w36) ClickEvent(w03) ClickEvent(w38) ClickEvent(w03) ClickEvent(w04) ClickEvent(w05) ClickEvent(w01) ClickEvent(w04) LongClickEvent(w05) ClickEvent(w05) ClickEvent(w01) TextInsert(w16,skyeyftvldfdgvqvxcbiet) ClickEvent(w30) ClickEvent(w18) LongClickEvent(w02) ClickEvent(w29) ClickEvent(w02) TextInsert(w16,havdbqxptyyvx) \n",
      "ClickEvent(w02) TextInsert(w16,ycisxhjxcylfw) ClickEvent(w00) LongClickEvent(w15) ClickEvent(w11) ClickEvent(w10) ClickEvent(w13) ClickEvent(w27) TextInsert(w16,wabd) LongClickEvent(w32) ClickEvent(w11) ClickEvent(w08) ClickEvent(w39) ClickEvent(w12) ClickEvent(w34) ClickEvent(w28) ClickEvent(w35) ClickEvent(w23) ClickEvent(w13) PressBack(s42) ClickEvent(w24) PressBack(s42) ClickEvent(w25) ClickEvent(w26) ClickEvent(w27) ClickEvent(w40) ClickEvent(w34) LongClickEvent(w32) LongClickEvent(w32) ClickEvent(w11) LongClickEvent(w10) ClickEvent(w08) ClickEvent(w19) LongClickEvent(w10) ClickEvent(w02) TextInsert(w16,mecrw) ClickEvent(w12) ClickEvent(w02) ClickEvent(w33) ClickEvent(w20) ClickEvent(w21) ClickEvent(w34) ClickEvent(w27) ClickEvent(w35) ClickEvent(w33) ClickEvent(w20) ClickEvent(w02) TextInsert(w16,wozybij) ClickEvent(w18) ClickEvent(w36) ClickEvent(w29) ClickEvent(w17) TextInsert(w16,wdopjawpuosgt) ClickEvent(w29) ClickEvent(w17) TextInsert(w16,dpjcvl) \n",
      "ClickEvent(w00) LongClickEvent(w44) ClickEvent(w32) Click(w22) PressBack(s10) PressBack(s00) ClickEvent(w03) ClickEvent(w00) ClickEvent(w02) ClickEvent(w41) LongClickEvent(w02) ClickEvent(w03) ClickEvent(w37) ClickEvent(w02) TextInsert(w16,avwwvqipxauwwktfkikh) ClickEvent(w18) LongClickEvent(w02) \n",
      "ClickEvent(w03) ClickEvent(w00) ClickEvent(w01) \n",
      "ClickEvent(w00) LongClickEvent(w41) ClickEvent(w44) ClickEvent(w32) Click(w22) PressBack(s10) PressBack(s00) ClickEvent(w02) TextInsert(w16,atdqfumfhlbjb) ClickEvent(w17) TextInsert(w16,cna) ClickEvent(w18) \n",
      "ClickEvent(w00) ClickEvent(w15) ClickEvent(w03) ClickEvent(w38) ClickEvent(w29) \n",
      "ClickEvent(w03) ClickEvent(w00) ClickEvent(w02) ClickEvent(w41) ClickEvent(w03) ClickEvent(w07) ClickEvent(w43) ClickEvent(w02) ClickEvent(w31) TextInsert(w16,uvarwdfkpistrd) ClickEvent(w17) TextInsert(w16,xvtampzmroiijok) ClickEvent(w18) LongClickEvent(w02) ClickEvent(w29) \n",
      "ClickEvent(w02) TextInsert(w16,cna) ClickEvent(w18) ClickEvent(w00) LongClickEvent(w02) LongClickEvent(w36) ClickEvent(w36) ClickEvent(w15) ClickEvent(w03) ClickEvent(w37) \n",
      "ClickEvent(w02) TextInsert(w16,mbiqgkbmknrhjrbqeoz) ClickEvent(w00) ClickEvent(w12) LongClickEvent(w02) LongClickEvent(w02) ClickEvent(w01) ClickEvent(w02) TextInsert(w16,mecrw) ClickEvent(w12) ClickEvent(w23) ClickEvent(w25) ClickEvent(w26) ClickEvent(w14) ClickEvent(w14) PressBack(s00) ClickEvent(w03) ClickEvent(w02) ClickEvent(w04) ClickEvent(w05) LongClickEvent(w05) ClickEvent(w05) ClickEvent(w01) TextInsert(w16,skyeyftvldfdgvqvxcbiet) ClickEvent(w30) ClickEvent(w18) ClickEvent(w02) TextInsert(w16,ppkbyxahzbgizp) ClickEvent(w29) ClickEvent(w17) TextInsert(w16,yrk) ClickEvent(w29) ClickEvent(w17) TextInsert(w16,fowirhhruatgshxbxtid) ClickEvent(w18) ClickEvent(w03) ClickEvent(w07) LongClickEvent(w36) \n",
      "ClickEvent(w03) ClickEvent(w02) ClickEvent(w04) LongClickEvent(w05) ClickEvent(w05) ClickEvent(w01) ClickEvent(w30) ClickEvent(w03) ClickEvent(w38) ClickEvent(w29) ClickEvent(w29) ClickEvent(w03) ClickEvent(w45) ClickEvent(w02) TextInsert(w16,fllyppaymgdgfwvvvpj) ClickEvent(w18) \n",
      "ClickEvent(w03) ClickEvent(w07) ClickEvent(w10) ClickEvent(w33) ClickEvent(w34) ClickEvent(w02) TextInsert(w16,udusdawgvftkgkszmu) ClickEvent(w08) ClickEvent(w09) LongClickEvent(w36) LongClickEvent(w32) ClickEvent(w11) TextInsert(w16,dmsigrqwy) ClickEvent(w18) LongClickEvent(w36) ClickEvent(w36) ClickEvent(w01) ClickEvent(w00) LongClickEvent(w41) ClickEvent(w11) LongClickEvent(w10) LongClickEvent(w44) ClickEvent(w44) ClickEvent(w32) Click(w22) PressBack(s10) TextInsert(w16,zbnuojsimcb) ClickEvent(w29) ClickEvent(w17) TextInsert(w16,bcqgebyiq) ClickEvent(w17) TextInsert(w16,degyrtkt) ClickEvent(w29) \n",
      "ClickEvent(w00) LongClickEvent(w36) LongClickEvent(w32) LongClickEvent(w32) LongClickEvent(w10) ClickEvent(w36) ClickEvent(w02) TextInsert(w16,dmsigrqwy) ClickEvent(w18) ClickEvent(w02) ClickEvent(w41) ClickEvent(w02) TextInsert(w16,vka) ClickEvent(w17) TextInsert(w16,bediwos) ClickEvent(w17) TextInsert(w16,mgurjcnetdvu) ClickEvent(w18) ClickEvent(w29) \n",
      "ClickEvent(w03) ClickEvent(w06) ClickEvent(w02) TextInsert(w16,rpv) ClickEvent(w00) ClickEvent(w01) TextInsert(w16,ycisxhjxcylfw) ClickEvent(w18) \n",
      "ClickEvent(w03) ClickEvent(w02) ClickEvent(w04) LongClickEvent(w05) ClickEvent(w05) LongClickEvent(w05) ClickEvent(w01) ClickEvent(w07) ClickEvent(w01) LongClickEvent(w02) ClickEvent(w03) ClickEvent(w07) ClickEvent(w43) ClickEvent(w02) ClickEvent(w31) TextInsert(w16,jxvqohkuovp) \n",
      "ClickEvent(w00) ClickEvent(w08) ClickEvent(w19) ClickEvent(w02) TextInsert(w16,dmsigrqwy) ClickEvent(w17) TextInsert(w16,cyfisshurmlicnuhl) ClickEvent(w17) TextInsert(w16,ctlulpliywrbgdwbxvt) ClickEvent(w08) ClickEvent(w09) LongClickEvent(w15) ClickEvent(w11) TextInsert(w16,hmmzh) ClickEvent(w18) LongClickEvent(w41) ClickEvent(w11) ClickEvent(w01) \n",
      "ClickEvent(w02) TextInsert(w16,mbiqgkbmknrhjrbqeoz) ClickEvent(w00) ClickEvent(w10) LongClickEvent(w02) ClickEvent(w01) ClickEvent(w01) ClickEvent(w06) \n",
      "ClickEvent(w02) TextInsert(w16,rpv) ClickEvent(w00) LongClickEvent(w15) ClickEvent(w11) Click(w22) PressBack(s10) PressBack(s00) ClickEvent(w02) TextInsert(w16,ycisxhjxcylfw) ClickEvent(w00) LongClickEvent(w10) ClickEvent(w02) TextInsert(w16,mecrw) ClickEvent(w12) ClickEvent(w34) ClickEvent(w21) ClickEvent(w14) ClickEvent(w24) ClickEvent(w35) ClickEvent(w25) ClickEvent(w26) ClickEvent(w27) ClickEvent(w28) ClickEvent(w01) TextInsert(w16,rpv) ClickEvent(w17) TextInsert(w16,atdqfumfhlbjb) ClickEvent(w18) \n",
      "ClickEvent(w00) ClickEvent(w41) ClickEvent(w03) LongClickEvent(w02) ClickEvent(w06) \n",
      "ClickEvent(w00) LongClickEvent(w41) ClickEvent(w44) ClickEvent(w11) LongClickEvent(w44) ClickEvent(w32) LongClickEvent(w15) ClickEvent(w11) Click(w22) PressBack(s10) PressBack(s00) LongClickEvent(w02) \n",
      "ClickEvent(w02) TextInsert(w16,cna) ClickEvent(w00) LongClickEvent(w15) ClickEvent(w11) Click(w22) PressBack(s10) PressBack(s10) PressBack(s00) ClickEvent(w00) LongClickEvent(w41) ClickEvent(w32) LongClickEvent(w15) ClickEvent(w11) ClickEvent(w02) LongClickEvent(w15) ClickEvent(w11) TextInsert(w16,ctlulpliywrbgdwbxvt) ClickEvent(w08) ClickEvent(w09) TextInsert(w16,dmsigrqwy) ClickEvent(w18) ClickEvent(w36) ClickEvent(w17) TextInsert(w16,hvkjlg) ClickEvent(w17) TextInsert(w16,seowcevrstbbeyhgje) ClickEvent(w29) ClickEvent(w18) ClickEvent(w29) \n",
      "ClickEvent(w03) ClickEvent(w02) ClickEvent(w04) LongClickEvent(w05) LongClickEvent(w05) ClickEvent(w05) ClickEvent(w01) ClickEvent(w47) ClickEvent(w03) ClickEvent(w02) TextInsert(w16,skyeyftvldfdgvqvxcbiet) ClickEvent(w30) ClickEvent(w17) TextInsert(w16,cfpdjqfkglthzqmnqczs) ClickEvent(w18) ClickEvent(w03) ClickEvent(w37) \n",
      "ClickEvent(w03) ClickEvent(w02) ClickEvent(w07) ClickEvent(w01) TextInsert(w16,mbiqgkbmknrhjrbqeoz) ClickEvent(w00) ClickEvent(w01) ClickEvent(w06) \n",
      "ClickEvent(w00) ClickEvent(w41) ClickEvent(w03) ClickEvent(w37) ClickEvent(w29) ClickEvent(w03) ClickEvent(w37) ClickEvent(w29) LongClickEvent(w02) ClickEvent(w03) ClickEvent(w38) \n",
      "ClickEvent(w02) TextInsert(w16,ycisxhjxcylfw) ClickEvent(w00) ClickEvent(w01) ClickEvent(w06) \n",
      "ClickEvent(w03) ClickEvent(w02) ClickEvent(w04) ClickEvent(w05) LongClickEvent(w05) ClickEvent(w01) ClickEvent(w31) TextInsert(w16,yixuj) ClickEvent(w18) LongClickEvent(w02) ClickEvent(w03) ClickEvent(w37) \n",
      "ClickEvent(w02) TextInsert(w16,cna) ClickEvent(w00) ClickEvent(w10) ClickEvent(w01) ClickEvent(w18) ClickEvent(w01) ClickEvent(w29) \n",
      "ClickEvent(w03) ClickEvent(w06) \n",
      "ClickEvent(w00) LongClickEvent(w10) LongClickEvent(w44) ClickEvent(w11) ClickEvent(w08) ClickEvent(w09) LongClickEvent(w10) LongClickEvent(w10) LongClickEvent(w10) LongClickEvent(w10) LongClickEvent(w10) LongClickEvent(w10) ClickEvent(w11) ClickEvent(w10) LongClickEvent(w02) LongClickEvent(w02) LongClickEvent(w02) ClickEvent(w02) ClickEvent(w34) ClickEvent(w21) ClickEvent(w33) ClickEvent(w18) LongClickEvent(w36) ClickEvent(w41) ClickEvent(w01) ClickEvent(w03) ClickEvent(w37) \n",
      "ClickEvent(w03) ClickEvent(w00) ClickEvent(w02) ClickEvent(w41) ClickEvent(w02) TextInsert(w16,nbbptjtizbjdfmukyxxbm) ClickEvent(w17) TextInsert(w16,fhdnwbruxzbvoualqdqlrq) ClickEvent(w18) \n",
      "ClickEvent(w02) TextInsert(w16,rpv) ClickEvent(w00) ClickEvent(w10) \n",
      "ClickEvent(w03) ClickEvent(w07) ClickEvent(w02) ClickEvent(w41) LongClickEvent(w02) ClickEvent(w03) ClickEvent(w07) LongClickEvent(w36) \n",
      "ClickEvent(w02) TextInsert(w16,cna) ClickEvent(w00) ClickEvent(w02) TextInsert(w16,mecrw) ClickEvent(w12) ClickEvent(w01) ClickEvent(w08) ClickEvent(w39) ClickEvent(w18) ClickEvent(w01) ClickEvent(w07) ClickEvent(w36) PressBack(s10) PressBack(s00) ClickEvent(w03) ClickEvent(w00) ClickEvent(w36) ClickEvent(w17) TextInsert(w16,kxwvkd) ClickEvent(w17) TextInsert(w16,cfpdjqfkglthzqmnqczs) ClickEvent(w29) ClickEvent(w29) ClickEvent(w18) ClickEvent(w03) ClickEvent(w47) LongClickEvent(w02) ClickEvent(w03) ClickEvent(w38) ClickEvent(w29) ClickEvent(w29) \n",
      "ClickEvent(w00) LongClickEvent(w36) ClickEvent(w36) ClickEvent(w36) PressBack(s10) PressBack(s00) ClickEvent(w03) ClickEvent(w07) ClickEvent(w15) ClickEvent(w03) ClickEvent(w38) \n",
      "ClickEvent(w02) TextInsert(w16,atdqfumfhlbjb) ClickEvent(w00) LongClickEvent(w02) ClickEvent(w08) ClickEvent(w09) ClickEvent(w41) LongClickEvent(w10) LongClickEvent(w36) LongClickEvent(w32) ClickEvent(w11) LongClickEvent(w36) ClickEvent(w41) ClickEvent(w36) ClickEvent(w17) TextInsert(w16,sgcvmaeyeofsydyku) ClickEvent(w18) ClickEvent(w03) ClickEvent(w37) \n",
      "ClickEvent(w00) LongClickEvent(w10) LongClickEvent(w41) ClickEvent(w44) ClickEvent(w44) ClickEvent(w08) ClickEvent(w19) ClickEvent(w01) ClickEvent(w06) \n",
      "ClickEvent(w00) ClickEvent(w36) PressBack(s10) PressBack(s00) ClickEvent(w03) ClickEvent(w06) \n",
      "ClickEvent(w03) ClickEvent(w07) LongClickEvent(w41) ClickEvent(w11) ClickEvent(w36) ClickEvent(w29) ClickEvent(w18) LongClickEvent(w02) ClickEvent(w03) ClickEvent(w45) LongClickEvent(w02) ClickEvent(w03) ClickEvent(w37) \n",
      "ClickEvent(w03) ClickEvent(w07) LongClickEvent(w10) ClickEvent(w36) LongClickEvent(w02) ClickEvent(w03) ClickEvent(w38) \n",
      "ClickEvent(w03) ClickEvent(w07) ClickEvent(w01) ClickEvent(w29) \n",
      "ClickEvent(w00) LongClickEvent(w44) ClickEvent(w32) ClickEvent(w15) PressBack(s10) PressBack(s00) ClickEvent(w02) TextInsert(w16,mbiqgkbmknrhjrbqeoz) ClickEvent(w00) ClickEvent(w01) TextInsert(w16,ycisxhjxcylfw) ClickEvent(w00) ClickEvent(w12) LongClickEvent(w02) ClickEvent(w01) ClickEvent(w02) TextInsert(w16,mecrw) ClickEvent(w12) ClickEvent(w26) ClickEvent(w14) PressBack(s00) ClickEvent(w03) ClickEvent(w02) ClickEvent(w04) ClickEvent(w01) ClickEvent(w46) ClickEvent(w29) \n",
      "ClickEvent(w02) TextInsert(w16,ycisxhjxcylfw) ClickEvent(w17) TextInsert(w16,rpv) ClickEvent(w00) ClickEvent(w02) TextInsert(w16,mecrw) ClickEvent(w12) ClickEvent(w33) ClickEvent(w26) LongClickEvent(w44) ClickEvent(w42) ClickEvent(w11) LongClickEvent(w42) ClickEvent(w42) ClickEvent(w32) ClickEvent(w43) ClickEvent(w07) LongClickEvent(w36) \n"
     ]
    }
   ],
   "source": [
    "fuzzer = TerminalCoverageGrammar(test_grammar, min_nonterminals=1, log=False)\n",
    "max_exp = fuzzer.all_symbols_grammar()\n",
    "reached = set()\n",
    "while len(max_exp - fuzzer.expansion_coverage()) > 0:\n",
    "    inp = fuzzer.fuzz()\n",
    "    reached.add(inp)\n",
    "    \n",
    "for x in reached:\n",
    "    print(x)"
   ]
  },
  {
   "cell_type": "code",
   "execution_count": null,
   "metadata": {},
   "outputs": [],
   "source": []
  }
 ],
 "metadata": {
  "kernelspec": {
   "display_name": "Python 3",
   "language": "python",
   "name": "python3"
  },
  "language_info": {
   "codemirror_mode": {
    "name": "ipython",
    "version": 3
   },
   "file_extension": ".py",
   "mimetype": "text/x-python",
   "name": "python",
   "nbconvert_exporter": "python",
   "pygments_lexer": "ipython3",
   "version": "3.6.5"
  },
  "toc": {
   "base_numbering": 1,
   "nav_menu": {},
   "number_sections": true,
   "sideBar": true,
   "skip_h1_title": false,
   "title_cell": "Table of Contents",
   "title_sidebar": "Contents",
   "toc_cell": false,
   "toc_position": {},
   "toc_section_display": true,
   "toc_window_display": false
  },
  "varInspector": {
   "cols": {
    "lenName": 16,
    "lenType": 16,
    "lenVar": 40
   },
   "kernels_config": {
    "python": {
     "delete_cmd_postfix": "",
     "delete_cmd_prefix": "del ",
     "library": "var_list.py",
     "varRefreshCmd": "print(var_dic_list())"
    },
    "r": {
     "delete_cmd_postfix": ") ",
     "delete_cmd_prefix": "rm(",
     "library": "var_list.r",
     "varRefreshCmd": "cat(var_dic_list()) "
    }
   },
   "types_to_exclude": [
    "module",
    "function",
    "builtin_function_or_method",
    "instance",
    "_Feature"
   ],
   "window_display": false
  }
 },
 "nbformat": 4,
 "nbformat_minor": 2
}
